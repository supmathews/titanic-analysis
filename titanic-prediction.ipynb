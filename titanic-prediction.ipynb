{
 "cells": [
  {
   "cell_type": "code",
   "execution_count": 1,
   "id": "6136e3e6",
   "metadata": {
    "_cell_guid": "b1076dfc-b9ad-4769-8c92-a6c4dae69d19",
    "_uuid": "8f2839f25d086af736a60e9eeb907d3b93b6e0e5",
    "execution": {
     "iopub.execute_input": "2023-01-25T23:27:03.207263Z",
     "iopub.status.busy": "2023-01-25T23:27:03.206835Z",
     "iopub.status.idle": "2023-01-25T23:27:03.221288Z",
     "shell.execute_reply": "2023-01-25T23:27:03.220352Z"
    },
    "papermill": {
     "duration": 0.033034,
     "end_time": "2023-01-25T23:27:03.224449",
     "exception": false,
     "start_time": "2023-01-25T23:27:03.191415",
     "status": "completed"
    },
    "tags": []
   },
   "outputs": [
    {
     "name": "stdout",
     "output_type": "stream",
     "text": [
      "/kaggle/input/titanic/train.csv\n",
      "/kaggle/input/titanic/test.csv\n",
      "/kaggle/input/titanic/gender_submission.csv\n"
     ]
    }
   ],
   "source": [
    "# This Python 3 environment comes with many helpful analytics libraries installed\n",
    "# It is defined by the kaggle/python Docker image: https://github.com/kaggle/docker-python\n",
    "# For example, here's several helpful packages to load\n",
    "\n",
    "import numpy as np # linear algebra\n",
    "import pandas as pd # data processing, CSV file I/O (e.g. pd.read_csv)\n",
    "\n",
    "# Input data files are available in the read-only \"../input/\" directory\n",
    "# For example, running this (by clicking run or pressing Shift+Enter) will list all files under the input directory\n",
    "\n",
    "import os\n",
    "for dirname, _, filenames in os.walk('/kaggle/input'):\n",
    "    for filename in filenames:\n",
    "        print(os.path.join(dirname, filename))\n",
    "\n",
    "# You can write up to 20GB to the current directory (/kaggle/working/) that gets preserved as output when you create a version using \"Save & Run All\" \n",
    "# You can also write temporary files to /kaggle/temp/, but they won't be saved outside of the current session"
   ]
  },
  {
   "cell_type": "markdown",
   "id": "80384c3a",
   "metadata": {
    "papermill": {
     "duration": 0.013798,
     "end_time": "2023-01-25T23:27:03.249875",
     "exception": false,
     "start_time": "2023-01-25T23:27:03.236077",
     "status": "completed"
    },
    "tags": []
   },
   "source": [
    "## Libraries"
   ]
  },
  {
   "cell_type": "code",
   "execution_count": 2,
   "id": "9b349a96",
   "metadata": {
    "execution": {
     "iopub.execute_input": "2023-01-25T23:27:03.272778Z",
     "iopub.status.busy": "2023-01-25T23:27:03.272503Z",
     "iopub.status.idle": "2023-01-25T23:27:15.227951Z",
     "shell.execute_reply": "2023-01-25T23:27:15.226789Z"
    },
    "papermill": {
     "duration": 11.969682,
     "end_time": "2023-01-25T23:27:15.230459",
     "exception": false,
     "start_time": "2023-01-25T23:27:03.260777",
     "status": "completed"
    },
    "tags": []
   },
   "outputs": [
    {
     "name": "stdout",
     "output_type": "stream",
     "text": [
      "Collecting researchpy\r\n",
      "  Downloading researchpy-0.3.5-py3-none-any.whl (33 kB)\r\n",
      "Requirement already satisfied: patsy in /opt/conda/lib/python3.7/site-packages (from researchpy) (0.5.2)\r\n",
      "Requirement already satisfied: scipy in /opt/conda/lib/python3.7/site-packages (from researchpy) (1.7.3)\r\n",
      "Requirement already satisfied: pandas in /opt/conda/lib/python3.7/site-packages (from researchpy) (1.3.5)\r\n",
      "Requirement already satisfied: numpy in /opt/conda/lib/python3.7/site-packages (from researchpy) (1.21.6)\r\n",
      "Requirement already satisfied: statsmodels in /opt/conda/lib/python3.7/site-packages (from researchpy) (0.13.2)\r\n",
      "Requirement already satisfied: python-dateutil>=2.7.3 in /opt/conda/lib/python3.7/site-packages (from pandas->researchpy) (2.8.2)\r\n",
      "Requirement already satisfied: pytz>=2017.3 in /opt/conda/lib/python3.7/site-packages (from pandas->researchpy) (2022.1)\r\n",
      "Requirement already satisfied: six in /opt/conda/lib/python3.7/site-packages (from patsy->researchpy) (1.15.0)\r\n",
      "Requirement already satisfied: packaging>=21.3 in /opt/conda/lib/python3.7/site-packages (from statsmodels->researchpy) (23.0)\r\n",
      "Installing collected packages: researchpy\r\n",
      "Successfully installed researchpy-0.3.5\r\n",
      "\u001b[33mWARNING: Running pip as the 'root' user can result in broken permissions and conflicting behaviour with the system package manager. It is recommended to use a virtual environment instead: https://pip.pypa.io/warnings/venv\u001b[0m\u001b[33m\r\n",
      "\u001b[0m"
     ]
    }
   ],
   "source": [
    "!pip install researchpy"
   ]
  },
  {
   "cell_type": "code",
   "execution_count": 3,
   "id": "14b41f16",
   "metadata": {
    "execution": {
     "iopub.execute_input": "2023-01-25T23:27:15.256214Z",
     "iopub.status.busy": "2023-01-25T23:27:15.254631Z",
     "iopub.status.idle": "2023-01-25T23:27:17.015340Z",
     "shell.execute_reply": "2023-01-25T23:27:17.014401Z"
    },
    "papermill": {
     "duration": 1.775815,
     "end_time": "2023-01-25T23:27:17.017733",
     "exception": false,
     "start_time": "2023-01-25T23:27:15.241918",
     "status": "completed"
    },
    "tags": []
   },
   "outputs": [],
   "source": [
    "# libraries\n",
    "import pandas as pd\n",
    "import numpy as np\n",
    "import scipy.stats as stats\n",
    "import researchpy as rp\n",
    "import matplotlib.pyplot as plt\n",
    "import seaborn as sns\n",
    "\n",
    "# sklearn\n",
    "from sklearn.linear_model import LinearRegression, LogisticRegression\n",
    "from sklearn.metrics import accuracy_score\n",
    "from sklearn.model_selection import train_test_split"
   ]
  },
  {
   "cell_type": "code",
   "execution_count": 4,
   "id": "2626435c",
   "metadata": {
    "execution": {
     "iopub.execute_input": "2023-01-25T23:27:17.042202Z",
     "iopub.status.busy": "2023-01-25T23:27:17.041612Z",
     "iopub.status.idle": "2023-01-25T23:27:17.084678Z",
     "shell.execute_reply": "2023-01-25T23:27:17.083759Z"
    },
    "papermill": {
     "duration": 0.057102,
     "end_time": "2023-01-25T23:27:17.086737",
     "exception": false,
     "start_time": "2023-01-25T23:27:17.029635",
     "status": "completed"
    },
    "tags": []
   },
   "outputs": [],
   "source": [
    "# read in the csv files\n",
    "df_train = pd.read_csv('/kaggle/input/titanic/train.csv')\n",
    "df_test = pd.read_csv('/kaggle/input/titanic/test.csv')\n",
    "df_gender = pd.read_csv('/kaggle/input/titanic/gender_submission.csv')\n",
    "combine = [df_train, df_test]"
   ]
  },
  {
   "cell_type": "markdown",
   "id": "dc563682",
   "metadata": {
    "papermill": {
     "duration": 0.011081,
     "end_time": "2023-01-25T23:27:17.108944",
     "exception": false,
     "start_time": "2023-01-25T23:27:17.097863",
     "status": "completed"
    },
    "tags": []
   },
   "source": [
    "## Data Analysis"
   ]
  },
  {
   "cell_type": "code",
   "execution_count": 5,
   "id": "9499d335",
   "metadata": {
    "execution": {
     "iopub.execute_input": "2023-01-25T23:27:17.132792Z",
     "iopub.status.busy": "2023-01-25T23:27:17.131905Z",
     "iopub.status.idle": "2023-01-25T23:27:17.138973Z",
     "shell.execute_reply": "2023-01-25T23:27:17.138116Z"
    },
    "papermill": {
     "duration": 0.021165,
     "end_time": "2023-01-25T23:27:17.141166",
     "exception": false,
     "start_time": "2023-01-25T23:27:17.120001",
     "status": "completed"
    },
    "tags": []
   },
   "outputs": [
    {
     "name": "stdout",
     "output_type": "stream",
     "text": [
      "(891, 12)\n",
      "(418, 11)\n",
      "(418, 2)\n"
     ]
    }
   ],
   "source": [
    "# check the shape of all the files\n",
    "\n",
    "print(df_train.shape)\n",
    "print(df_test.shape)\n",
    "print(df_gender.shape)"
   ]
  },
  {
   "cell_type": "code",
   "execution_count": 6,
   "id": "0f72f96a",
   "metadata": {
    "execution": {
     "iopub.execute_input": "2023-01-25T23:27:17.164580Z",
     "iopub.status.busy": "2023-01-25T23:27:17.164276Z",
     "iopub.status.idle": "2023-01-25T23:27:17.194908Z",
     "shell.execute_reply": "2023-01-25T23:27:17.193560Z"
    },
    "papermill": {
     "duration": 0.045437,
     "end_time": "2023-01-25T23:27:17.197696",
     "exception": false,
     "start_time": "2023-01-25T23:27:17.152259",
     "status": "completed"
    },
    "tags": []
   },
   "outputs": [
    {
     "name": "stdout",
     "output_type": "stream",
     "text": [
      "<class 'pandas.core.frame.DataFrame'>\n",
      "RangeIndex: 891 entries, 0 to 890\n",
      "Data columns (total 12 columns):\n",
      " #   Column       Non-Null Count  Dtype  \n",
      "---  ------       --------------  -----  \n",
      " 0   PassengerId  891 non-null    int64  \n",
      " 1   Survived     891 non-null    int64  \n",
      " 2   Pclass       891 non-null    int64  \n",
      " 3   Name         891 non-null    object \n",
      " 4   Sex          891 non-null    object \n",
      " 5   Age          714 non-null    float64\n",
      " 6   SibSp        891 non-null    int64  \n",
      " 7   Parch        891 non-null    int64  \n",
      " 8   Ticket       891 non-null    object \n",
      " 9   Fare         891 non-null    float64\n",
      " 10  Cabin        204 non-null    object \n",
      " 11  Embarked     889 non-null    object \n",
      "dtypes: float64(2), int64(5), object(5)\n",
      "memory usage: 83.7+ KB\n"
     ]
    }
   ],
   "source": [
    "df_train.info()"
   ]
  },
  {
   "cell_type": "code",
   "execution_count": 7,
   "id": "ac035b6a",
   "metadata": {
    "execution": {
     "iopub.execute_input": "2023-01-25T23:27:17.223120Z",
     "iopub.status.busy": "2023-01-25T23:27:17.222361Z",
     "iopub.status.idle": "2023-01-25T23:27:17.233681Z",
     "shell.execute_reply": "2023-01-25T23:27:17.232162Z"
    },
    "papermill": {
     "duration": 0.025219,
     "end_time": "2023-01-25T23:27:17.235695",
     "exception": false,
     "start_time": "2023-01-25T23:27:17.210476",
     "status": "completed"
    },
    "tags": []
   },
   "outputs": [
    {
     "name": "stdout",
     "output_type": "stream",
     "text": [
      "<class 'pandas.core.frame.DataFrame'>\n",
      "RangeIndex: 418 entries, 0 to 417\n",
      "Data columns (total 11 columns):\n",
      " #   Column       Non-Null Count  Dtype  \n",
      "---  ------       --------------  -----  \n",
      " 0   PassengerId  418 non-null    int64  \n",
      " 1   Pclass       418 non-null    int64  \n",
      " 2   Name         418 non-null    object \n",
      " 3   Sex          418 non-null    object \n",
      " 4   Age          332 non-null    float64\n",
      " 5   SibSp        418 non-null    int64  \n",
      " 6   Parch        418 non-null    int64  \n",
      " 7   Ticket       418 non-null    object \n",
      " 8   Fare         417 non-null    float64\n",
      " 9   Cabin        91 non-null     object \n",
      " 10  Embarked     418 non-null    object \n",
      "dtypes: float64(2), int64(4), object(5)\n",
      "memory usage: 36.0+ KB\n"
     ]
    }
   ],
   "source": [
    "df_test.info()"
   ]
  },
  {
   "cell_type": "code",
   "execution_count": 8,
   "id": "15a0b2e4",
   "metadata": {
    "execution": {
     "iopub.execute_input": "2023-01-25T23:27:17.260084Z",
     "iopub.status.busy": "2023-01-25T23:27:17.259331Z",
     "iopub.status.idle": "2023-01-25T23:27:17.269179Z",
     "shell.execute_reply": "2023-01-25T23:27:17.267985Z"
    },
    "papermill": {
     "duration": 0.02431,
     "end_time": "2023-01-25T23:27:17.271815",
     "exception": false,
     "start_time": "2023-01-25T23:27:17.247505",
     "status": "completed"
    },
    "tags": []
   },
   "outputs": [
    {
     "name": "stdout",
     "output_type": "stream",
     "text": [
      "<class 'pandas.core.frame.DataFrame'>\n",
      "RangeIndex: 418 entries, 0 to 417\n",
      "Data columns (total 2 columns):\n",
      " #   Column       Non-Null Count  Dtype\n",
      "---  ------       --------------  -----\n",
      " 0   PassengerId  418 non-null    int64\n",
      " 1   Survived     418 non-null    int64\n",
      "dtypes: int64(2)\n",
      "memory usage: 6.7 KB\n"
     ]
    }
   ],
   "source": [
    "df_gender.info()"
   ]
  },
  {
   "cell_type": "markdown",
   "id": "5156b413",
   "metadata": {
    "papermill": {
     "duration": 0.011115,
     "end_time": "2023-01-25T23:27:17.295248",
     "exception": false,
     "start_time": "2023-01-25T23:27:17.284133",
     "status": "completed"
    },
    "tags": []
   },
   "source": [
    "### Data Cleaning"
   ]
  },
  {
   "cell_type": "code",
   "execution_count": 9,
   "id": "27fd25cc",
   "metadata": {
    "execution": {
     "iopub.execute_input": "2023-01-25T23:27:17.320737Z",
     "iopub.status.busy": "2023-01-25T23:27:17.319334Z",
     "iopub.status.idle": "2023-01-25T23:27:17.344085Z",
     "shell.execute_reply": "2023-01-25T23:27:17.342982Z"
    },
    "papermill": {
     "duration": 0.039455,
     "end_time": "2023-01-25T23:27:17.346193",
     "exception": false,
     "start_time": "2023-01-25T23:27:17.306738",
     "status": "completed"
    },
    "tags": []
   },
   "outputs": [
    {
     "data": {
      "text/html": [
       "<div>\n",
       "<style scoped>\n",
       "    .dataframe tbody tr th:only-of-type {\n",
       "        vertical-align: middle;\n",
       "    }\n",
       "\n",
       "    .dataframe tbody tr th {\n",
       "        vertical-align: top;\n",
       "    }\n",
       "\n",
       "    .dataframe thead th {\n",
       "        text-align: right;\n",
       "    }\n",
       "</style>\n",
       "<table border=\"1\" class=\"dataframe\">\n",
       "  <thead>\n",
       "    <tr style=\"text-align: right;\">\n",
       "      <th></th>\n",
       "      <th>PassengerId</th>\n",
       "      <th>Survived</th>\n",
       "      <th>Pclass</th>\n",
       "      <th>Name</th>\n",
       "      <th>Sex</th>\n",
       "      <th>Age</th>\n",
       "      <th>SibSp</th>\n",
       "      <th>Parch</th>\n",
       "      <th>Ticket</th>\n",
       "      <th>Fare</th>\n",
       "      <th>Cabin</th>\n",
       "      <th>Embarked</th>\n",
       "    </tr>\n",
       "  </thead>\n",
       "  <tbody>\n",
       "    <tr>\n",
       "      <th>0</th>\n",
       "      <td>1</td>\n",
       "      <td>0</td>\n",
       "      <td>3</td>\n",
       "      <td>Braund, Mr. Owen Harris</td>\n",
       "      <td>male</td>\n",
       "      <td>22.0</td>\n",
       "      <td>1</td>\n",
       "      <td>0</td>\n",
       "      <td>A/5 21171</td>\n",
       "      <td>7.2500</td>\n",
       "      <td>NaN</td>\n",
       "      <td>S</td>\n",
       "    </tr>\n",
       "    <tr>\n",
       "      <th>1</th>\n",
       "      <td>2</td>\n",
       "      <td>1</td>\n",
       "      <td>1</td>\n",
       "      <td>Cumings, Mrs. John Bradley (Florence Briggs Th...</td>\n",
       "      <td>female</td>\n",
       "      <td>38.0</td>\n",
       "      <td>1</td>\n",
       "      <td>0</td>\n",
       "      <td>PC 17599</td>\n",
       "      <td>71.2833</td>\n",
       "      <td>C85</td>\n",
       "      <td>C</td>\n",
       "    </tr>\n",
       "    <tr>\n",
       "      <th>2</th>\n",
       "      <td>3</td>\n",
       "      <td>1</td>\n",
       "      <td>3</td>\n",
       "      <td>Heikkinen, Miss. Laina</td>\n",
       "      <td>female</td>\n",
       "      <td>26.0</td>\n",
       "      <td>0</td>\n",
       "      <td>0</td>\n",
       "      <td>STON/O2. 3101282</td>\n",
       "      <td>7.9250</td>\n",
       "      <td>NaN</td>\n",
       "      <td>S</td>\n",
       "    </tr>\n",
       "    <tr>\n",
       "      <th>3</th>\n",
       "      <td>4</td>\n",
       "      <td>1</td>\n",
       "      <td>1</td>\n",
       "      <td>Futrelle, Mrs. Jacques Heath (Lily May Peel)</td>\n",
       "      <td>female</td>\n",
       "      <td>35.0</td>\n",
       "      <td>1</td>\n",
       "      <td>0</td>\n",
       "      <td>113803</td>\n",
       "      <td>53.1000</td>\n",
       "      <td>C123</td>\n",
       "      <td>S</td>\n",
       "    </tr>\n",
       "    <tr>\n",
       "      <th>4</th>\n",
       "      <td>5</td>\n",
       "      <td>0</td>\n",
       "      <td>3</td>\n",
       "      <td>Allen, Mr. William Henry</td>\n",
       "      <td>male</td>\n",
       "      <td>35.0</td>\n",
       "      <td>0</td>\n",
       "      <td>0</td>\n",
       "      <td>373450</td>\n",
       "      <td>8.0500</td>\n",
       "      <td>NaN</td>\n",
       "      <td>S</td>\n",
       "    </tr>\n",
       "    <tr>\n",
       "      <th>5</th>\n",
       "      <td>6</td>\n",
       "      <td>0</td>\n",
       "      <td>3</td>\n",
       "      <td>Moran, Mr. James</td>\n",
       "      <td>male</td>\n",
       "      <td>NaN</td>\n",
       "      <td>0</td>\n",
       "      <td>0</td>\n",
       "      <td>330877</td>\n",
       "      <td>8.4583</td>\n",
       "      <td>NaN</td>\n",
       "      <td>Q</td>\n",
       "    </tr>\n",
       "    <tr>\n",
       "      <th>6</th>\n",
       "      <td>7</td>\n",
       "      <td>0</td>\n",
       "      <td>1</td>\n",
       "      <td>McCarthy, Mr. Timothy J</td>\n",
       "      <td>male</td>\n",
       "      <td>54.0</td>\n",
       "      <td>0</td>\n",
       "      <td>0</td>\n",
       "      <td>17463</td>\n",
       "      <td>51.8625</td>\n",
       "      <td>E46</td>\n",
       "      <td>S</td>\n",
       "    </tr>\n",
       "    <tr>\n",
       "      <th>7</th>\n",
       "      <td>8</td>\n",
       "      <td>0</td>\n",
       "      <td>3</td>\n",
       "      <td>Palsson, Master. Gosta Leonard</td>\n",
       "      <td>male</td>\n",
       "      <td>2.0</td>\n",
       "      <td>3</td>\n",
       "      <td>1</td>\n",
       "      <td>349909</td>\n",
       "      <td>21.0750</td>\n",
       "      <td>NaN</td>\n",
       "      <td>S</td>\n",
       "    </tr>\n",
       "    <tr>\n",
       "      <th>8</th>\n",
       "      <td>9</td>\n",
       "      <td>1</td>\n",
       "      <td>3</td>\n",
       "      <td>Johnson, Mrs. Oscar W (Elisabeth Vilhelmina Berg)</td>\n",
       "      <td>female</td>\n",
       "      <td>27.0</td>\n",
       "      <td>0</td>\n",
       "      <td>2</td>\n",
       "      <td>347742</td>\n",
       "      <td>11.1333</td>\n",
       "      <td>NaN</td>\n",
       "      <td>S</td>\n",
       "    </tr>\n",
       "    <tr>\n",
       "      <th>9</th>\n",
       "      <td>10</td>\n",
       "      <td>1</td>\n",
       "      <td>2</td>\n",
       "      <td>Nasser, Mrs. Nicholas (Adele Achem)</td>\n",
       "      <td>female</td>\n",
       "      <td>14.0</td>\n",
       "      <td>1</td>\n",
       "      <td>0</td>\n",
       "      <td>237736</td>\n",
       "      <td>30.0708</td>\n",
       "      <td>NaN</td>\n",
       "      <td>C</td>\n",
       "    </tr>\n",
       "  </tbody>\n",
       "</table>\n",
       "</div>"
      ],
      "text/plain": [
       "   PassengerId  Survived  Pclass  \\\n",
       "0            1         0       3   \n",
       "1            2         1       1   \n",
       "2            3         1       3   \n",
       "3            4         1       1   \n",
       "4            5         0       3   \n",
       "5            6         0       3   \n",
       "6            7         0       1   \n",
       "7            8         0       3   \n",
       "8            9         1       3   \n",
       "9           10         1       2   \n",
       "\n",
       "                                                Name     Sex   Age  SibSp  \\\n",
       "0                            Braund, Mr. Owen Harris    male  22.0      1   \n",
       "1  Cumings, Mrs. John Bradley (Florence Briggs Th...  female  38.0      1   \n",
       "2                             Heikkinen, Miss. Laina  female  26.0      0   \n",
       "3       Futrelle, Mrs. Jacques Heath (Lily May Peel)  female  35.0      1   \n",
       "4                           Allen, Mr. William Henry    male  35.0      0   \n",
       "5                                   Moran, Mr. James    male   NaN      0   \n",
       "6                            McCarthy, Mr. Timothy J    male  54.0      0   \n",
       "7                     Palsson, Master. Gosta Leonard    male   2.0      3   \n",
       "8  Johnson, Mrs. Oscar W (Elisabeth Vilhelmina Berg)  female  27.0      0   \n",
       "9                Nasser, Mrs. Nicholas (Adele Achem)  female  14.0      1   \n",
       "\n",
       "   Parch            Ticket     Fare Cabin Embarked  \n",
       "0      0         A/5 21171   7.2500   NaN        S  \n",
       "1      0          PC 17599  71.2833   C85        C  \n",
       "2      0  STON/O2. 3101282   7.9250   NaN        S  \n",
       "3      0            113803  53.1000  C123        S  \n",
       "4      0            373450   8.0500   NaN        S  \n",
       "5      0            330877   8.4583   NaN        Q  \n",
       "6      0             17463  51.8625   E46        S  \n",
       "7      1            349909  21.0750   NaN        S  \n",
       "8      2            347742  11.1333   NaN        S  \n",
       "9      0            237736  30.0708   NaN        C  "
      ]
     },
     "execution_count": 9,
     "metadata": {},
     "output_type": "execute_result"
    }
   ],
   "source": [
    "df_train.head(10)"
   ]
  },
  {
   "cell_type": "code",
   "execution_count": 10,
   "id": "904b4706",
   "metadata": {
    "execution": {
     "iopub.execute_input": "2023-01-25T23:27:17.370584Z",
     "iopub.status.busy": "2023-01-25T23:27:17.369969Z",
     "iopub.status.idle": "2023-01-25T23:27:17.378440Z",
     "shell.execute_reply": "2023-01-25T23:27:17.377510Z"
    },
    "papermill": {
     "duration": 0.023002,
     "end_time": "2023-01-25T23:27:17.380595",
     "exception": false,
     "start_time": "2023-01-25T23:27:17.357593",
     "status": "completed"
    },
    "tags": []
   },
   "outputs": [
    {
     "data": {
      "text/plain": [
       "PassengerId      0\n",
       "Survived         0\n",
       "Pclass           0\n",
       "Name             0\n",
       "Sex              0\n",
       "Age            177\n",
       "SibSp            0\n",
       "Parch            0\n",
       "Ticket           0\n",
       "Fare             0\n",
       "Cabin          687\n",
       "Embarked         2\n",
       "dtype: int64"
      ]
     },
     "execution_count": 10,
     "metadata": {},
     "output_type": "execute_result"
    }
   ],
   "source": [
    "# check for nan values\n",
    "df_train.isnull().sum()"
   ]
  },
  {
   "cell_type": "code",
   "execution_count": 11,
   "id": "00bd20dd",
   "metadata": {
    "execution": {
     "iopub.execute_input": "2023-01-25T23:27:17.406553Z",
     "iopub.status.busy": "2023-01-25T23:27:17.405739Z",
     "iopub.status.idle": "2023-01-25T23:27:17.412399Z",
     "shell.execute_reply": "2023-01-25T23:27:17.411414Z"
    },
    "papermill": {
     "duration": 0.021479,
     "end_time": "2023-01-25T23:27:17.414333",
     "exception": false,
     "start_time": "2023-01-25T23:27:17.392854",
     "status": "completed"
    },
    "tags": []
   },
   "outputs": [
    {
     "data": {
      "text/plain": [
       "array(['S', 'C', 'Q', nan], dtype=object)"
      ]
     },
     "execution_count": 11,
     "metadata": {},
     "output_type": "execute_result"
    }
   ],
   "source": [
    "df_train['Embarked'].unique()"
   ]
  },
  {
   "cell_type": "code",
   "execution_count": 12,
   "id": "2777ac11",
   "metadata": {
    "execution": {
     "iopub.execute_input": "2023-01-25T23:27:17.439269Z",
     "iopub.status.busy": "2023-01-25T23:27:17.438976Z",
     "iopub.status.idle": "2023-01-25T23:27:17.453507Z",
     "shell.execute_reply": "2023-01-25T23:27:17.452578Z"
    },
    "papermill": {
     "duration": 0.029095,
     "end_time": "2023-01-25T23:27:17.455512",
     "exception": false,
     "start_time": "2023-01-25T23:27:17.426417",
     "status": "completed"
    },
    "tags": []
   },
   "outputs": [
    {
     "data": {
      "text/html": [
       "<div>\n",
       "<style scoped>\n",
       "    .dataframe tbody tr th:only-of-type {\n",
       "        vertical-align: middle;\n",
       "    }\n",
       "\n",
       "    .dataframe tbody tr th {\n",
       "        vertical-align: top;\n",
       "    }\n",
       "\n",
       "    .dataframe thead th {\n",
       "        text-align: right;\n",
       "    }\n",
       "</style>\n",
       "<table border=\"1\" class=\"dataframe\">\n",
       "  <thead>\n",
       "    <tr style=\"text-align: right;\">\n",
       "      <th></th>\n",
       "      <th>PassengerId</th>\n",
       "      <th>Survived</th>\n",
       "      <th>Pclass</th>\n",
       "      <th>Name</th>\n",
       "      <th>Sex</th>\n",
       "      <th>Age</th>\n",
       "      <th>SibSp</th>\n",
       "      <th>Parch</th>\n",
       "      <th>Ticket</th>\n",
       "      <th>Fare</th>\n",
       "      <th>Cabin</th>\n",
       "      <th>Embarked</th>\n",
       "    </tr>\n",
       "  </thead>\n",
       "  <tbody>\n",
       "    <tr>\n",
       "      <th>61</th>\n",
       "      <td>62</td>\n",
       "      <td>1</td>\n",
       "      <td>1</td>\n",
       "      <td>Icard, Miss. Amelie</td>\n",
       "      <td>female</td>\n",
       "      <td>38.0</td>\n",
       "      <td>0</td>\n",
       "      <td>0</td>\n",
       "      <td>113572</td>\n",
       "      <td>80.0</td>\n",
       "      <td>B28</td>\n",
       "      <td>NaN</td>\n",
       "    </tr>\n",
       "    <tr>\n",
       "      <th>829</th>\n",
       "      <td>830</td>\n",
       "      <td>1</td>\n",
       "      <td>1</td>\n",
       "      <td>Stone, Mrs. George Nelson (Martha Evelyn)</td>\n",
       "      <td>female</td>\n",
       "      <td>62.0</td>\n",
       "      <td>0</td>\n",
       "      <td>0</td>\n",
       "      <td>113572</td>\n",
       "      <td>80.0</td>\n",
       "      <td>B28</td>\n",
       "      <td>NaN</td>\n",
       "    </tr>\n",
       "  </tbody>\n",
       "</table>\n",
       "</div>"
      ],
      "text/plain": [
       "     PassengerId  Survived  Pclass                                       Name  \\\n",
       "61            62         1       1                        Icard, Miss. Amelie   \n",
       "829          830         1       1  Stone, Mrs. George Nelson (Martha Evelyn)   \n",
       "\n",
       "        Sex   Age  SibSp  Parch  Ticket  Fare Cabin Embarked  \n",
       "61   female  38.0      0      0  113572  80.0   B28      NaN  \n",
       "829  female  62.0      0      0  113572  80.0   B28      NaN  "
      ]
     },
     "execution_count": 12,
     "metadata": {},
     "output_type": "execute_result"
    }
   ],
   "source": [
    "df_train[df_train['Embarked'].isnull()]"
   ]
  },
  {
   "cell_type": "code",
   "execution_count": 13,
   "id": "b801a0e4",
   "metadata": {
    "execution": {
     "iopub.execute_input": "2023-01-25T23:27:17.481197Z",
     "iopub.status.busy": "2023-01-25T23:27:17.480441Z",
     "iopub.status.idle": "2023-01-25T23:27:17.486688Z",
     "shell.execute_reply": "2023-01-25T23:27:17.485939Z"
    },
    "papermill": {
     "duration": 0.020865,
     "end_time": "2023-01-25T23:27:17.488735",
     "exception": false,
     "start_time": "2023-01-25T23:27:17.467870",
     "status": "completed"
    },
    "tags": []
   },
   "outputs": [],
   "source": [
    "# drop the rows with nan values\n",
    "df_train.dropna(subset=['Embarked'], axis=0, inplace=True)"
   ]
  },
  {
   "cell_type": "code",
   "execution_count": 14,
   "id": "404136e2",
   "metadata": {
    "execution": {
     "iopub.execute_input": "2023-01-25T23:27:17.515281Z",
     "iopub.status.busy": "2023-01-25T23:27:17.514620Z",
     "iopub.status.idle": "2023-01-25T23:27:17.521362Z",
     "shell.execute_reply": "2023-01-25T23:27:17.520412Z"
    },
    "papermill": {
     "duration": 0.021367,
     "end_time": "2023-01-25T23:27:17.523341",
     "exception": false,
     "start_time": "2023-01-25T23:27:17.501974",
     "status": "completed"
    },
    "tags": []
   },
   "outputs": [
    {
     "data": {
      "text/plain": [
       "False"
      ]
     },
     "execution_count": 14,
     "metadata": {},
     "output_type": "execute_result"
    }
   ],
   "source": [
    "df_train['Embarked'].isnull().values.any()"
   ]
  },
  {
   "cell_type": "code",
   "execution_count": 15,
   "id": "8083b295",
   "metadata": {
    "execution": {
     "iopub.execute_input": "2023-01-25T23:27:17.549307Z",
     "iopub.status.busy": "2023-01-25T23:27:17.549012Z",
     "iopub.status.idle": "2023-01-25T23:27:17.554979Z",
     "shell.execute_reply": "2023-01-25T23:27:17.554079Z"
    },
    "papermill": {
     "duration": 0.021378,
     "end_time": "2023-01-25T23:27:17.556917",
     "exception": false,
     "start_time": "2023-01-25T23:27:17.535539",
     "status": "completed"
    },
    "tags": []
   },
   "outputs": [],
   "source": [
    "# drop these columns in both files\n",
    "df_train.drop(['Name', 'Ticket', 'Fare', 'Cabin'], axis=1, inplace=True)\n",
    "df_test.drop(['Name', 'Ticket', 'Fare', 'Cabin'], axis=1, inplace=True)"
   ]
  },
  {
   "cell_type": "code",
   "execution_count": 16,
   "id": "6f0c6a5c",
   "metadata": {
    "execution": {
     "iopub.execute_input": "2023-01-25T23:27:17.582314Z",
     "iopub.status.busy": "2023-01-25T23:27:17.581557Z",
     "iopub.status.idle": "2023-01-25T23:27:17.589824Z",
     "shell.execute_reply": "2023-01-25T23:27:17.588765Z"
    },
    "papermill": {
     "duration": 0.023053,
     "end_time": "2023-01-25T23:27:17.591951",
     "exception": false,
     "start_time": "2023-01-25T23:27:17.568898",
     "status": "completed"
    },
    "tags": []
   },
   "outputs": [
    {
     "data": {
      "text/plain": [
       "PassengerId      0\n",
       "Survived         0\n",
       "Pclass           0\n",
       "Sex              0\n",
       "Age            177\n",
       "SibSp            0\n",
       "Parch            0\n",
       "Embarked         0\n",
       "dtype: int64"
      ]
     },
     "execution_count": 16,
     "metadata": {},
     "output_type": "execute_result"
    }
   ],
   "source": [
    "# check for nan values\n",
    "df_train.isnull().sum()"
   ]
  },
  {
   "cell_type": "code",
   "execution_count": 17,
   "id": "ff905e7d",
   "metadata": {
    "execution": {
     "iopub.execute_input": "2023-01-25T23:27:17.617904Z",
     "iopub.status.busy": "2023-01-25T23:27:17.617166Z",
     "iopub.status.idle": "2023-01-25T23:27:17.633952Z",
     "shell.execute_reply": "2023-01-25T23:27:17.632953Z"
    },
    "papermill": {
     "duration": 0.031643,
     "end_time": "2023-01-25T23:27:17.636086",
     "exception": false,
     "start_time": "2023-01-25T23:27:17.604443",
     "status": "completed"
    },
    "tags": []
   },
   "outputs": [
    {
     "data": {
      "text/html": [
       "<div>\n",
       "<style scoped>\n",
       "    .dataframe tbody tr th:only-of-type {\n",
       "        vertical-align: middle;\n",
       "    }\n",
       "\n",
       "    .dataframe tbody tr th {\n",
       "        vertical-align: top;\n",
       "    }\n",
       "\n",
       "    .dataframe thead th {\n",
       "        text-align: right;\n",
       "    }\n",
       "</style>\n",
       "<table border=\"1\" class=\"dataframe\">\n",
       "  <thead>\n",
       "    <tr style=\"text-align: right;\">\n",
       "      <th></th>\n",
       "      <th>PassengerId</th>\n",
       "      <th>Survived</th>\n",
       "      <th>Pclass</th>\n",
       "      <th>Sex</th>\n",
       "      <th>Age</th>\n",
       "      <th>SibSp</th>\n",
       "      <th>Parch</th>\n",
       "      <th>Embarked</th>\n",
       "    </tr>\n",
       "  </thead>\n",
       "  <tbody>\n",
       "    <tr>\n",
       "      <th>5</th>\n",
       "      <td>6</td>\n",
       "      <td>0</td>\n",
       "      <td>3</td>\n",
       "      <td>male</td>\n",
       "      <td>NaN</td>\n",
       "      <td>0</td>\n",
       "      <td>0</td>\n",
       "      <td>Q</td>\n",
       "    </tr>\n",
       "    <tr>\n",
       "      <th>17</th>\n",
       "      <td>18</td>\n",
       "      <td>1</td>\n",
       "      <td>2</td>\n",
       "      <td>male</td>\n",
       "      <td>NaN</td>\n",
       "      <td>0</td>\n",
       "      <td>0</td>\n",
       "      <td>S</td>\n",
       "    </tr>\n",
       "    <tr>\n",
       "      <th>19</th>\n",
       "      <td>20</td>\n",
       "      <td>1</td>\n",
       "      <td>3</td>\n",
       "      <td>female</td>\n",
       "      <td>NaN</td>\n",
       "      <td>0</td>\n",
       "      <td>0</td>\n",
       "      <td>C</td>\n",
       "    </tr>\n",
       "    <tr>\n",
       "      <th>26</th>\n",
       "      <td>27</td>\n",
       "      <td>0</td>\n",
       "      <td>3</td>\n",
       "      <td>male</td>\n",
       "      <td>NaN</td>\n",
       "      <td>0</td>\n",
       "      <td>0</td>\n",
       "      <td>C</td>\n",
       "    </tr>\n",
       "    <tr>\n",
       "      <th>28</th>\n",
       "      <td>29</td>\n",
       "      <td>1</td>\n",
       "      <td>3</td>\n",
       "      <td>female</td>\n",
       "      <td>NaN</td>\n",
       "      <td>0</td>\n",
       "      <td>0</td>\n",
       "      <td>Q</td>\n",
       "    </tr>\n",
       "    <tr>\n",
       "      <th>...</th>\n",
       "      <td>...</td>\n",
       "      <td>...</td>\n",
       "      <td>...</td>\n",
       "      <td>...</td>\n",
       "      <td>...</td>\n",
       "      <td>...</td>\n",
       "      <td>...</td>\n",
       "      <td>...</td>\n",
       "    </tr>\n",
       "    <tr>\n",
       "      <th>859</th>\n",
       "      <td>860</td>\n",
       "      <td>0</td>\n",
       "      <td>3</td>\n",
       "      <td>male</td>\n",
       "      <td>NaN</td>\n",
       "      <td>0</td>\n",
       "      <td>0</td>\n",
       "      <td>C</td>\n",
       "    </tr>\n",
       "    <tr>\n",
       "      <th>863</th>\n",
       "      <td>864</td>\n",
       "      <td>0</td>\n",
       "      <td>3</td>\n",
       "      <td>female</td>\n",
       "      <td>NaN</td>\n",
       "      <td>8</td>\n",
       "      <td>2</td>\n",
       "      <td>S</td>\n",
       "    </tr>\n",
       "    <tr>\n",
       "      <th>868</th>\n",
       "      <td>869</td>\n",
       "      <td>0</td>\n",
       "      <td>3</td>\n",
       "      <td>male</td>\n",
       "      <td>NaN</td>\n",
       "      <td>0</td>\n",
       "      <td>0</td>\n",
       "      <td>S</td>\n",
       "    </tr>\n",
       "    <tr>\n",
       "      <th>878</th>\n",
       "      <td>879</td>\n",
       "      <td>0</td>\n",
       "      <td>3</td>\n",
       "      <td>male</td>\n",
       "      <td>NaN</td>\n",
       "      <td>0</td>\n",
       "      <td>0</td>\n",
       "      <td>S</td>\n",
       "    </tr>\n",
       "    <tr>\n",
       "      <th>888</th>\n",
       "      <td>889</td>\n",
       "      <td>0</td>\n",
       "      <td>3</td>\n",
       "      <td>female</td>\n",
       "      <td>NaN</td>\n",
       "      <td>1</td>\n",
       "      <td>2</td>\n",
       "      <td>S</td>\n",
       "    </tr>\n",
       "  </tbody>\n",
       "</table>\n",
       "<p>177 rows × 8 columns</p>\n",
       "</div>"
      ],
      "text/plain": [
       "     PassengerId  Survived  Pclass     Sex  Age  SibSp  Parch Embarked\n",
       "5              6         0       3    male  NaN      0      0        Q\n",
       "17            18         1       2    male  NaN      0      0        S\n",
       "19            20         1       3  female  NaN      0      0        C\n",
       "26            27         0       3    male  NaN      0      0        C\n",
       "28            29         1       3  female  NaN      0      0        Q\n",
       "..           ...       ...     ...     ...  ...    ...    ...      ...\n",
       "859          860         0       3    male  NaN      0      0        C\n",
       "863          864         0       3  female  NaN      8      2        S\n",
       "868          869         0       3    male  NaN      0      0        S\n",
       "878          879         0       3    male  NaN      0      0        S\n",
       "888          889         0       3  female  NaN      1      2        S\n",
       "\n",
       "[177 rows x 8 columns]"
      ]
     },
     "execution_count": 17,
     "metadata": {},
     "output_type": "execute_result"
    }
   ],
   "source": [
    "df_train[df_train['Age'].isnull()]"
   ]
  },
  {
   "cell_type": "code",
   "execution_count": 18,
   "id": "03ddfbfc",
   "metadata": {
    "execution": {
     "iopub.execute_input": "2023-01-25T23:27:17.663016Z",
     "iopub.status.busy": "2023-01-25T23:27:17.662287Z",
     "iopub.status.idle": "2023-01-25T23:27:17.673711Z",
     "shell.execute_reply": "2023-01-25T23:27:17.672703Z"
    },
    "papermill": {
     "duration": 0.026379,
     "end_time": "2023-01-25T23:27:17.675665",
     "exception": false,
     "start_time": "2023-01-25T23:27:17.649286",
     "status": "completed"
    },
    "tags": []
   },
   "outputs": [
    {
     "data": {
      "text/plain": [
       "count    712.000000\n",
       "mean      29.642093\n",
       "std       14.492933\n",
       "min        0.420000\n",
       "25%       20.000000\n",
       "50%       28.000000\n",
       "75%       38.000000\n",
       "max       80.000000\n",
       "Name: Age, dtype: float64"
      ]
     },
     "execution_count": 18,
     "metadata": {},
     "output_type": "execute_result"
    }
   ],
   "source": [
    "df_train['Age'].describe()"
   ]
  },
  {
   "cell_type": "code",
   "execution_count": 19,
   "id": "7ca5bba3",
   "metadata": {
    "execution": {
     "iopub.execute_input": "2023-01-25T23:27:17.702731Z",
     "iopub.status.busy": "2023-01-25T23:27:17.701247Z",
     "iopub.status.idle": "2023-01-25T23:27:17.707809Z",
     "shell.execute_reply": "2023-01-25T23:27:17.706897Z"
    },
    "papermill": {
     "duration": 0.021757,
     "end_time": "2023-01-25T23:27:17.709911",
     "exception": false,
     "start_time": "2023-01-25T23:27:17.688154",
     "status": "completed"
    },
    "tags": []
   },
   "outputs": [],
   "source": [
    "# fill the nan values with mean age\n",
    "df_train['Age'].fillna(df_train['Age'].mean(), inplace=True)\n",
    "\n",
    "# fill the nan values in test file as well\n",
    "df_test['Age'].fillna(df_test['Age'].mean(), inplace=True)"
   ]
  },
  {
   "cell_type": "code",
   "execution_count": 20,
   "id": "d719a73b",
   "metadata": {
    "execution": {
     "iopub.execute_input": "2023-01-25T23:27:17.737246Z",
     "iopub.status.busy": "2023-01-25T23:27:17.736959Z",
     "iopub.status.idle": "2023-01-25T23:27:17.745082Z",
     "shell.execute_reply": "2023-01-25T23:27:17.743988Z"
    },
    "papermill": {
     "duration": 0.024138,
     "end_time": "2023-01-25T23:27:17.747244",
     "exception": false,
     "start_time": "2023-01-25T23:27:17.723106",
     "status": "completed"
    },
    "tags": []
   },
   "outputs": [
    {
     "data": {
      "text/plain": [
       "PassengerId    0\n",
       "Survived       0\n",
       "Pclass         0\n",
       "Sex            0\n",
       "Age            0\n",
       "SibSp          0\n",
       "Parch          0\n",
       "Embarked       0\n",
       "dtype: int64"
      ]
     },
     "execution_count": 20,
     "metadata": {},
     "output_type": "execute_result"
    }
   ],
   "source": [
    "df_train.isnull().sum()"
   ]
  },
  {
   "cell_type": "code",
   "execution_count": 21,
   "id": "8d23cadb",
   "metadata": {
    "execution": {
     "iopub.execute_input": "2023-01-25T23:27:17.796211Z",
     "iopub.status.busy": "2023-01-25T23:27:17.795637Z",
     "iopub.status.idle": "2023-01-25T23:27:17.800989Z",
     "shell.execute_reply": "2023-01-25T23:27:17.799886Z"
    },
    "papermill": {
     "duration": 0.033983,
     "end_time": "2023-01-25T23:27:17.804867",
     "exception": false,
     "start_time": "2023-01-25T23:27:17.770884",
     "status": "completed"
    },
    "tags": []
   },
   "outputs": [],
   "source": [
    "# drop the cabin class \n",
    "#df_train[df_train['Cabin'].duplicated()].sample(10)"
   ]
  },
  {
   "cell_type": "code",
   "execution_count": 22,
   "id": "9afad09d",
   "metadata": {
    "execution": {
     "iopub.execute_input": "2023-01-25T23:27:17.847376Z",
     "iopub.status.busy": "2023-01-25T23:27:17.847092Z",
     "iopub.status.idle": "2023-01-25T23:27:17.852681Z",
     "shell.execute_reply": "2023-01-25T23:27:17.851764Z"
    },
    "papermill": {
     "duration": 0.029962,
     "end_time": "2023-01-25T23:27:17.857075",
     "exception": false,
     "start_time": "2023-01-25T23:27:17.827113",
     "status": "completed"
    },
    "tags": []
   },
   "outputs": [],
   "source": [
    "# change the age type for both train and test files\n",
    "\n",
    "df_train['Age'] = df_train['Age'].astype(int)\n",
    "df_test['Age'] = df_test['Age'].astype(int)"
   ]
  },
  {
   "cell_type": "code",
   "execution_count": 23,
   "id": "3e3d9474",
   "metadata": {
    "execution": {
     "iopub.execute_input": "2023-01-25T23:27:17.886608Z",
     "iopub.status.busy": "2023-01-25T23:27:17.886341Z",
     "iopub.status.idle": "2023-01-25T23:27:17.898817Z",
     "shell.execute_reply": "2023-01-25T23:27:17.897140Z"
    },
    "papermill": {
     "duration": 0.028546,
     "end_time": "2023-01-25T23:27:17.901385",
     "exception": false,
     "start_time": "2023-01-25T23:27:17.872839",
     "status": "completed"
    },
    "tags": []
   },
   "outputs": [
    {
     "name": "stdout",
     "output_type": "stream",
     "text": [
      "<class 'pandas.core.frame.DataFrame'>\n",
      "Int64Index: 889 entries, 0 to 890\n",
      "Data columns (total 8 columns):\n",
      " #   Column       Non-Null Count  Dtype \n",
      "---  ------       --------------  ----- \n",
      " 0   PassengerId  889 non-null    int64 \n",
      " 1   Survived     889 non-null    int64 \n",
      " 2   Pclass       889 non-null    int64 \n",
      " 3   Sex          889 non-null    object\n",
      " 4   Age          889 non-null    int64 \n",
      " 5   SibSp        889 non-null    int64 \n",
      " 6   Parch        889 non-null    int64 \n",
      " 7   Embarked     889 non-null    object\n",
      "dtypes: int64(6), object(2)\n",
      "memory usage: 62.5+ KB\n"
     ]
    }
   ],
   "source": [
    "df_train.info()"
   ]
  },
  {
   "cell_type": "code",
   "execution_count": 24,
   "id": "d5218fa3",
   "metadata": {
    "execution": {
     "iopub.execute_input": "2023-01-25T23:27:17.929501Z",
     "iopub.status.busy": "2023-01-25T23:27:17.928737Z",
     "iopub.status.idle": "2023-01-25T23:27:17.940504Z",
     "shell.execute_reply": "2023-01-25T23:27:17.939529Z"
    },
    "papermill": {
     "duration": 0.027586,
     "end_time": "2023-01-25T23:27:17.942463",
     "exception": false,
     "start_time": "2023-01-25T23:27:17.914877",
     "status": "completed"
    },
    "tags": []
   },
   "outputs": [
    {
     "data": {
      "text/html": [
       "<div>\n",
       "<style scoped>\n",
       "    .dataframe tbody tr th:only-of-type {\n",
       "        vertical-align: middle;\n",
       "    }\n",
       "\n",
       "    .dataframe tbody tr th {\n",
       "        vertical-align: top;\n",
       "    }\n",
       "\n",
       "    .dataframe thead th {\n",
       "        text-align: right;\n",
       "    }\n",
       "</style>\n",
       "<table border=\"1\" class=\"dataframe\">\n",
       "  <thead>\n",
       "    <tr style=\"text-align: right;\">\n",
       "      <th></th>\n",
       "      <th>PassengerId</th>\n",
       "      <th>Survived</th>\n",
       "      <th>Pclass</th>\n",
       "      <th>Sex</th>\n",
       "      <th>Age</th>\n",
       "      <th>SibSp</th>\n",
       "      <th>Parch</th>\n",
       "      <th>Embarked</th>\n",
       "    </tr>\n",
       "  </thead>\n",
       "  <tbody>\n",
       "    <tr>\n",
       "      <th>0</th>\n",
       "      <td>1</td>\n",
       "      <td>0</td>\n",
       "      <td>3</td>\n",
       "      <td>male</td>\n",
       "      <td>22</td>\n",
       "      <td>1</td>\n",
       "      <td>0</td>\n",
       "      <td>S</td>\n",
       "    </tr>\n",
       "    <tr>\n",
       "      <th>1</th>\n",
       "      <td>2</td>\n",
       "      <td>1</td>\n",
       "      <td>1</td>\n",
       "      <td>female</td>\n",
       "      <td>38</td>\n",
       "      <td>1</td>\n",
       "      <td>0</td>\n",
       "      <td>C</td>\n",
       "    </tr>\n",
       "    <tr>\n",
       "      <th>2</th>\n",
       "      <td>3</td>\n",
       "      <td>1</td>\n",
       "      <td>3</td>\n",
       "      <td>female</td>\n",
       "      <td>26</td>\n",
       "      <td>0</td>\n",
       "      <td>0</td>\n",
       "      <td>S</td>\n",
       "    </tr>\n",
       "    <tr>\n",
       "      <th>3</th>\n",
       "      <td>4</td>\n",
       "      <td>1</td>\n",
       "      <td>1</td>\n",
       "      <td>female</td>\n",
       "      <td>35</td>\n",
       "      <td>1</td>\n",
       "      <td>0</td>\n",
       "      <td>S</td>\n",
       "    </tr>\n",
       "    <tr>\n",
       "      <th>4</th>\n",
       "      <td>5</td>\n",
       "      <td>0</td>\n",
       "      <td>3</td>\n",
       "      <td>male</td>\n",
       "      <td>35</td>\n",
       "      <td>0</td>\n",
       "      <td>0</td>\n",
       "      <td>S</td>\n",
       "    </tr>\n",
       "    <tr>\n",
       "      <th>5</th>\n",
       "      <td>6</td>\n",
       "      <td>0</td>\n",
       "      <td>3</td>\n",
       "      <td>male</td>\n",
       "      <td>29</td>\n",
       "      <td>0</td>\n",
       "      <td>0</td>\n",
       "      <td>Q</td>\n",
       "    </tr>\n",
       "    <tr>\n",
       "      <th>6</th>\n",
       "      <td>7</td>\n",
       "      <td>0</td>\n",
       "      <td>1</td>\n",
       "      <td>male</td>\n",
       "      <td>54</td>\n",
       "      <td>0</td>\n",
       "      <td>0</td>\n",
       "      <td>S</td>\n",
       "    </tr>\n",
       "    <tr>\n",
       "      <th>7</th>\n",
       "      <td>8</td>\n",
       "      <td>0</td>\n",
       "      <td>3</td>\n",
       "      <td>male</td>\n",
       "      <td>2</td>\n",
       "      <td>3</td>\n",
       "      <td>1</td>\n",
       "      <td>S</td>\n",
       "    </tr>\n",
       "    <tr>\n",
       "      <th>8</th>\n",
       "      <td>9</td>\n",
       "      <td>1</td>\n",
       "      <td>3</td>\n",
       "      <td>female</td>\n",
       "      <td>27</td>\n",
       "      <td>0</td>\n",
       "      <td>2</td>\n",
       "      <td>S</td>\n",
       "    </tr>\n",
       "    <tr>\n",
       "      <th>9</th>\n",
       "      <td>10</td>\n",
       "      <td>1</td>\n",
       "      <td>2</td>\n",
       "      <td>female</td>\n",
       "      <td>14</td>\n",
       "      <td>1</td>\n",
       "      <td>0</td>\n",
       "      <td>C</td>\n",
       "    </tr>\n",
       "  </tbody>\n",
       "</table>\n",
       "</div>"
      ],
      "text/plain": [
       "   PassengerId  Survived  Pclass     Sex  Age  SibSp  Parch Embarked\n",
       "0            1         0       3    male   22      1      0        S\n",
       "1            2         1       1  female   38      1      0        C\n",
       "2            3         1       3  female   26      0      0        S\n",
       "3            4         1       1  female   35      1      0        S\n",
       "4            5         0       3    male   35      0      0        S\n",
       "5            6         0       3    male   29      0      0        Q\n",
       "6            7         0       1    male   54      0      0        S\n",
       "7            8         0       3    male    2      3      1        S\n",
       "8            9         1       3  female   27      0      2        S\n",
       "9           10         1       2  female   14      1      0        C"
      ]
     },
     "execution_count": 24,
     "metadata": {},
     "output_type": "execute_result"
    }
   ],
   "source": [
    "df_train.head(10)"
   ]
  },
  {
   "cell_type": "markdown",
   "id": "4ae90b8d",
   "metadata": {
    "papermill": {
     "duration": 0.012849,
     "end_time": "2023-01-25T23:27:17.968789",
     "exception": false,
     "start_time": "2023-01-25T23:27:17.955940",
     "status": "completed"
    },
    "tags": []
   },
   "source": [
    "### Statistical Testing"
   ]
  },
  {
   "cell_type": "code",
   "execution_count": 25,
   "id": "59e12e78",
   "metadata": {
    "execution": {
     "iopub.execute_input": "2023-01-25T23:27:17.995679Z",
     "iopub.status.busy": "2023-01-25T23:27:17.995420Z",
     "iopub.status.idle": "2023-01-25T23:27:18.013948Z",
     "shell.execute_reply": "2023-01-25T23:27:18.012917Z"
    },
    "papermill": {
     "duration": 0.034506,
     "end_time": "2023-01-25T23:27:18.015998",
     "exception": false,
     "start_time": "2023-01-25T23:27:17.981492",
     "status": "completed"
    },
    "tags": []
   },
   "outputs": [
    {
     "data": {
      "text/html": [
       "<div>\n",
       "<style scoped>\n",
       "    .dataframe tbody tr th:only-of-type {\n",
       "        vertical-align: middle;\n",
       "    }\n",
       "\n",
       "    .dataframe tbody tr th {\n",
       "        vertical-align: top;\n",
       "    }\n",
       "\n",
       "    .dataframe thead th {\n",
       "        text-align: right;\n",
       "    }\n",
       "</style>\n",
       "<table border=\"1\" class=\"dataframe\">\n",
       "  <thead>\n",
       "    <tr style=\"text-align: right;\">\n",
       "      <th></th>\n",
       "      <th>Variable</th>\n",
       "      <th>Outcome</th>\n",
       "      <th>Count</th>\n",
       "      <th>Percent</th>\n",
       "    </tr>\n",
       "  </thead>\n",
       "  <tbody>\n",
       "    <tr>\n",
       "      <th>0</th>\n",
       "      <td>Pclass</td>\n",
       "      <td>3</td>\n",
       "      <td>491</td>\n",
       "      <td>55.23</td>\n",
       "    </tr>\n",
       "    <tr>\n",
       "      <th>1</th>\n",
       "      <td></td>\n",
       "      <td>1</td>\n",
       "      <td>214</td>\n",
       "      <td>24.07</td>\n",
       "    </tr>\n",
       "    <tr>\n",
       "      <th>2</th>\n",
       "      <td></td>\n",
       "      <td>2</td>\n",
       "      <td>184</td>\n",
       "      <td>20.70</td>\n",
       "    </tr>\n",
       "    <tr>\n",
       "      <th>3</th>\n",
       "      <td>Survived</td>\n",
       "      <td>0</td>\n",
       "      <td>549</td>\n",
       "      <td>61.75</td>\n",
       "    </tr>\n",
       "    <tr>\n",
       "      <th>4</th>\n",
       "      <td></td>\n",
       "      <td>1</td>\n",
       "      <td>340</td>\n",
       "      <td>38.25</td>\n",
       "    </tr>\n",
       "  </tbody>\n",
       "</table>\n",
       "</div>"
      ],
      "text/plain": [
       "   Variable  Outcome  Count  Percent\n",
       "0    Pclass        3    491    55.23\n",
       "1                  1    214    24.07\n",
       "2                  2    184    20.70\n",
       "3  Survived        0    549    61.75\n",
       "4                  1    340    38.25"
      ]
     },
     "execution_count": 25,
     "metadata": {},
     "output_type": "execute_result"
    }
   ],
   "source": [
    "# check if pclass feature and survived feature are correlated\n",
    "rp.summary_cat(df_train[['Pclass', 'Survived']])"
   ]
  },
  {
   "cell_type": "code",
   "execution_count": 26,
   "id": "d2ff361d",
   "metadata": {
    "execution": {
     "iopub.execute_input": "2023-01-25T23:27:18.043604Z",
     "iopub.status.busy": "2023-01-25T23:27:18.043309Z",
     "iopub.status.idle": "2023-01-25T23:27:18.069476Z",
     "shell.execute_reply": "2023-01-25T23:27:18.068455Z"
    },
    "papermill": {
     "duration": 0.04198,
     "end_time": "2023-01-25T23:27:18.071682",
     "exception": false,
     "start_time": "2023-01-25T23:27:18.029702",
     "status": "completed"
    },
    "tags": []
   },
   "outputs": [
    {
     "data": {
      "text/html": [
       "<div>\n",
       "<style scoped>\n",
       "    .dataframe tbody tr th:only-of-type {\n",
       "        vertical-align: middle;\n",
       "    }\n",
       "\n",
       "    .dataframe tbody tr th {\n",
       "        vertical-align: top;\n",
       "    }\n",
       "\n",
       "    .dataframe thead th {\n",
       "        text-align: right;\n",
       "    }\n",
       "</style>\n",
       "<table border=\"1\" class=\"dataframe\">\n",
       "  <thead>\n",
       "    <tr style=\"text-align: right;\">\n",
       "      <th>Pclass</th>\n",
       "      <th>1</th>\n",
       "      <th>2</th>\n",
       "      <th>3</th>\n",
       "    </tr>\n",
       "    <tr>\n",
       "      <th>Survived</th>\n",
       "      <th></th>\n",
       "      <th></th>\n",
       "      <th></th>\n",
       "    </tr>\n",
       "  </thead>\n",
       "  <tbody>\n",
       "    <tr>\n",
       "      <th>0</th>\n",
       "      <td>80</td>\n",
       "      <td>97</td>\n",
       "      <td>372</td>\n",
       "    </tr>\n",
       "    <tr>\n",
       "      <th>1</th>\n",
       "      <td>134</td>\n",
       "      <td>87</td>\n",
       "      <td>119</td>\n",
       "    </tr>\n",
       "  </tbody>\n",
       "</table>\n",
       "</div>"
      ],
      "text/plain": [
       "Pclass      1   2    3\n",
       "Survived              \n",
       "0          80  97  372\n",
       "1         134  87  119"
      ]
     },
     "execution_count": 26,
     "metadata": {},
     "output_type": "execute_result"
    }
   ],
   "source": [
    "# generate crosstabulation table for calling scipy.stats.chi2_contingency\n",
    "crosstab1 = pd.crosstab(df_train['Survived'], df_train['Pclass'])\n",
    "crosstab1"
   ]
  },
  {
   "cell_type": "markdown",
   "id": "5c893643",
   "metadata": {
    "papermill": {
     "duration": 0.014113,
     "end_time": "2023-01-25T23:27:18.099645",
     "exception": false,
     "start_time": "2023-01-25T23:27:18.085532",
     "status": "completed"
    },
    "tags": []
   },
   "source": [
    "Hypothesis are as follows,\n",
    "* *H0* -> represents null hypothesis, i.e, there is no relationship between survival and passenger class\n",
    "* *H1* -> represents alternative hypothesis, i.e, there is a relationship between survival and passenger class"
   ]
  },
  {
   "cell_type": "code",
   "execution_count": 27,
   "id": "86d13d33",
   "metadata": {
    "execution": {
     "iopub.execute_input": "2023-01-25T23:27:18.127756Z",
     "iopub.status.busy": "2023-01-25T23:27:18.126996Z",
     "iopub.status.idle": "2023-01-25T23:27:18.133741Z",
     "shell.execute_reply": "2023-01-25T23:27:18.132710Z"
    },
    "papermill": {
     "duration": 0.023502,
     "end_time": "2023-01-25T23:27:18.136585",
     "exception": false,
     "start_time": "2023-01-25T23:27:18.113083",
     "status": "completed"
    },
    "tags": []
   },
   "outputs": [
    {
     "name": "stdout",
     "output_type": "stream",
     "text": [
      "stat=100.980, p=0.000\n"
     ]
    }
   ],
   "source": [
    "# call the stats method\n",
    "# first value reperesents x_sq test static, second value is p-value and third number is degree of freedom\n",
    "# array represents the expected cell counts\n",
    "stat, p, dof, expected = stats.chi2_contingency(crosstab1)\n",
    "print('stat=%.3f, p=%.3f'% (stat, p))"
   ]
  },
  {
   "cell_type": "code",
   "execution_count": 28,
   "id": "47f9eef0",
   "metadata": {
    "execution": {
     "iopub.execute_input": "2023-01-25T23:27:18.164469Z",
     "iopub.status.busy": "2023-01-25T23:27:18.164153Z",
     "iopub.status.idle": "2023-01-25T23:27:18.170071Z",
     "shell.execute_reply": "2023-01-25T23:27:18.168886Z"
    },
    "papermill": {
     "duration": 0.022284,
     "end_time": "2023-01-25T23:27:18.172557",
     "exception": false,
     "start_time": "2023-01-25T23:27:18.150273",
     "status": "completed"
    },
    "tags": []
   },
   "outputs": [
    {
     "name": "stdout",
     "output_type": "stream",
     "text": [
      "Accepting alternative hypothesis. There is a relation between survival and passenger class.\n"
     ]
    }
   ],
   "source": [
    "# assuming significance level of 0.005\n",
    "if p > 0.005:\n",
    "    print('Accepting the null hypothesis. There is no relation between survival and passenger class.')\n",
    "else:\n",
    "    print('Accepting alternative hypothesis. There is a relation between survival and passenger class.')"
   ]
  },
  {
   "cell_type": "code",
   "execution_count": 29,
   "id": "06e026ae",
   "metadata": {
    "execution": {
     "iopub.execute_input": "2023-01-25T23:27:18.200466Z",
     "iopub.status.busy": "2023-01-25T23:27:18.200214Z",
     "iopub.status.idle": "2023-01-25T23:27:18.510815Z",
     "shell.execute_reply": "2023-01-25T23:27:18.509900Z"
    },
    "papermill": {
     "duration": 0.326586,
     "end_time": "2023-01-25T23:27:18.512862",
     "exception": false,
     "start_time": "2023-01-25T23:27:18.186276",
     "status": "completed"
    },
    "tags": []
   },
   "outputs": [
    {
     "data": {
      "text/plain": [
       "<AxesSubplot:xlabel='Age', ylabel='Sex'>"
      ]
     },
     "execution_count": 29,
     "metadata": {},
     "output_type": "execute_result"
    },
    {
     "data": {
      "image/png": "[encoded data removed]",
      "text/plain": [
       "<Figure size 432x288 with 1 Axes>"
      ]
     },
     "metadata": {
      "needs_background": "light"
     },
     "output_type": "display_data"
    }
   ],
   "source": [
    "# plot the relation between survival and passenger class\n",
    "sns.scatterplot(data=df_train, x='Age', y='Sex', hue='Survived')"
   ]
  },
  {
   "cell_type": "code",
   "execution_count": 30,
   "id": "5a86c735",
   "metadata": {
    "execution": {
     "iopub.execute_input": "2023-01-25T23:27:18.541739Z",
     "iopub.status.busy": "2023-01-25T23:27:18.541015Z",
     "iopub.status.idle": "2023-01-25T23:27:18.556149Z",
     "shell.execute_reply": "2023-01-25T23:27:18.555156Z"
    },
    "papermill": {
     "duration": 0.032013,
     "end_time": "2023-01-25T23:27:18.558734",
     "exception": false,
     "start_time": "2023-01-25T23:27:18.526721",
     "status": "completed"
    },
    "tags": []
   },
   "outputs": [
    {
     "data": {
      "text/html": [
       "<div>\n",
       "<style scoped>\n",
       "    .dataframe tbody tr th:only-of-type {\n",
       "        vertical-align: middle;\n",
       "    }\n",
       "\n",
       "    .dataframe tbody tr th {\n",
       "        vertical-align: top;\n",
       "    }\n",
       "\n",
       "    .dataframe thead th {\n",
       "        text-align: right;\n",
       "    }\n",
       "</style>\n",
       "<table border=\"1\" class=\"dataframe\">\n",
       "  <thead>\n",
       "    <tr style=\"text-align: right;\">\n",
       "      <th></th>\n",
       "      <th>Pclass</th>\n",
       "      <th>Survived</th>\n",
       "    </tr>\n",
       "  </thead>\n",
       "  <tbody>\n",
       "    <tr>\n",
       "      <th>0</th>\n",
       "      <td>1</td>\n",
       "      <td>0.626168</td>\n",
       "    </tr>\n",
       "    <tr>\n",
       "      <th>1</th>\n",
       "      <td>2</td>\n",
       "      <td>0.472826</td>\n",
       "    </tr>\n",
       "    <tr>\n",
       "      <th>2</th>\n",
       "      <td>3</td>\n",
       "      <td>0.242363</td>\n",
       "    </tr>\n",
       "  </tbody>\n",
       "</table>\n",
       "</div>"
      ],
      "text/plain": [
       "   Pclass  Survived\n",
       "0       1  0.626168\n",
       "1       2  0.472826\n",
       "2       3  0.242363"
      ]
     },
     "execution_count": 30,
     "metadata": {},
     "output_type": "execute_result"
    }
   ],
   "source": [
    "# check the percentage of survival for each passenger class feature\n",
    "df_train[['Pclass', 'Survived']].groupby(['Pclass'], as_index=False).mean().sort_values(by='Survived', ascending=False)"
   ]
  },
  {
   "cell_type": "code",
   "execution_count": 31,
   "id": "7bab7b85",
   "metadata": {
    "execution": {
     "iopub.execute_input": "2023-01-25T23:27:18.588474Z",
     "iopub.status.busy": "2023-01-25T23:27:18.587694Z",
     "iopub.status.idle": "2023-01-25T23:27:18.599702Z",
     "shell.execute_reply": "2023-01-25T23:27:18.598743Z"
    },
    "papermill": {
     "duration": 0.029061,
     "end_time": "2023-01-25T23:27:18.601673",
     "exception": false,
     "start_time": "2023-01-25T23:27:18.572612",
     "status": "completed"
    },
    "tags": []
   },
   "outputs": [
    {
     "data": {
      "text/html": [
       "<div>\n",
       "<style scoped>\n",
       "    .dataframe tbody tr th:only-of-type {\n",
       "        vertical-align: middle;\n",
       "    }\n",
       "\n",
       "    .dataframe tbody tr th {\n",
       "        vertical-align: top;\n",
       "    }\n",
       "\n",
       "    .dataframe thead th {\n",
       "        text-align: right;\n",
       "    }\n",
       "</style>\n",
       "<table border=\"1\" class=\"dataframe\">\n",
       "  <thead>\n",
       "    <tr style=\"text-align: right;\">\n",
       "      <th></th>\n",
       "      <th>Sex</th>\n",
       "      <th>Survived</th>\n",
       "    </tr>\n",
       "  </thead>\n",
       "  <tbody>\n",
       "    <tr>\n",
       "      <th>0</th>\n",
       "      <td>female</td>\n",
       "      <td>0.740385</td>\n",
       "    </tr>\n",
       "    <tr>\n",
       "      <th>1</th>\n",
       "      <td>male</td>\n",
       "      <td>0.188908</td>\n",
       "    </tr>\n",
       "  </tbody>\n",
       "</table>\n",
       "</div>"
      ],
      "text/plain": [
       "      Sex  Survived\n",
       "0  female  0.740385\n",
       "1    male  0.188908"
      ]
     },
     "execution_count": 31,
     "metadata": {},
     "output_type": "execute_result"
    }
   ],
   "source": [
    "# check the percentage of survival for each passenger class feature\n",
    "df_train[['Sex', 'Survived']].groupby(['Sex'], as_index=False).mean().sort_values(by='Survived', ascending=False)"
   ]
  },
  {
   "cell_type": "code",
   "execution_count": 32,
   "id": "09e325e4",
   "metadata": {
    "execution": {
     "iopub.execute_input": "2023-01-25T23:27:18.630828Z",
     "iopub.status.busy": "2023-01-25T23:27:18.630088Z",
     "iopub.status.idle": "2023-01-25T23:27:18.636600Z",
     "shell.execute_reply": "2023-01-25T23:27:18.635775Z"
    },
    "papermill": {
     "duration": 0.023134,
     "end_time": "2023-01-25T23:27:18.638666",
     "exception": false,
     "start_time": "2023-01-25T23:27:18.615532",
     "status": "completed"
    },
    "tags": []
   },
   "outputs": [],
   "source": [
    "# change the sex value to numerical value\n",
    "\n",
    "for dataset in combine:\n",
    "    dataset['Sex'] = dataset['Sex'].map( {'female': 1, 'male': 0} ).astype(int)"
   ]
  },
  {
   "cell_type": "code",
   "execution_count": 33,
   "id": "f0465161",
   "metadata": {
    "execution": {
     "iopub.execute_input": "2023-01-25T23:27:18.667998Z",
     "iopub.status.busy": "2023-01-25T23:27:18.667264Z",
     "iopub.status.idle": "2023-01-25T23:27:18.673941Z",
     "shell.execute_reply": "2023-01-25T23:27:18.673011Z"
    },
    "papermill": {
     "duration": 0.023485,
     "end_time": "2023-01-25T23:27:18.675917",
     "exception": false,
     "start_time": "2023-01-25T23:27:18.652432",
     "status": "completed"
    },
    "tags": []
   },
   "outputs": [
    {
     "data": {
      "text/plain": [
       "0"
      ]
     },
     "execution_count": 33,
     "metadata": {},
     "output_type": "execute_result"
    }
   ],
   "source": [
    "df_train['Embarked'].isnull().sum()"
   ]
  },
  {
   "cell_type": "code",
   "execution_count": 34,
   "id": "06a40406",
   "metadata": {
    "execution": {
     "iopub.execute_input": "2023-01-25T23:27:18.705392Z",
     "iopub.status.busy": "2023-01-25T23:27:18.704634Z",
     "iopub.status.idle": "2023-01-25T23:27:18.711011Z",
     "shell.execute_reply": "2023-01-25T23:27:18.710217Z"
    },
    "papermill": {
     "duration": 0.023146,
     "end_time": "2023-01-25T23:27:18.712946",
     "exception": false,
     "start_time": "2023-01-25T23:27:18.689800",
     "status": "completed"
    },
    "tags": []
   },
   "outputs": [],
   "source": [
    "# change the embarked value to numberical\n",
    "\n",
    "for dataset in combine:\n",
    "    dataset['Embarked'] = dataset['Embarked'].map( {'S': 0, 'C': 1, 'Q': 2} ).astype(int)"
   ]
  },
  {
   "cell_type": "markdown",
   "id": "632c6286",
   "metadata": {
    "papermill": {
     "duration": 0.013569,
     "end_time": "2023-01-25T23:27:18.740832",
     "exception": false,
     "start_time": "2023-01-25T23:27:18.727263",
     "status": "completed"
    },
    "tags": []
   },
   "source": [
    "Data Visualization**"
   ]
  },
  {
   "cell_type": "code",
   "execution_count": 35,
   "id": "fb6f3e80",
   "metadata": {
    "execution": {
     "iopub.execute_input": "2023-01-25T23:27:18.770670Z",
     "iopub.status.busy": "2023-01-25T23:27:18.770332Z",
     "iopub.status.idle": "2023-01-25T23:27:19.256941Z",
     "shell.execute_reply": "2023-01-25T23:27:19.255920Z"
    },
    "papermill": {
     "duration": 0.504014,
     "end_time": "2023-01-25T23:27:19.258999",
     "exception": false,
     "start_time": "2023-01-25T23:27:18.754985",
     "status": "completed"
    },
    "tags": []
   },
   "outputs": [
    {
     "data": {
      "text/plain": [
       "<seaborn.axisgrid.FacetGrid at 0x7f8f3f511790>"
      ]
     },
     "execution_count": 35,
     "metadata": {},
     "output_type": "execute_result"
    },
    {
     "data": {
      "image/png": "[encoded data removed]",
      "text/plain": [
       "<Figure size 440x216 with 2 Axes>"
      ]
     },
     "metadata": {
      "needs_background": "light"
     },
     "output_type": "display_data"
    }
   ],
   "source": [
    "# plot the relation between survival and age\n",
    "\n",
    "grid = sns.FacetGrid(df_train, col='Survived')\n",
    "grid.map(sns.histplot, 'Age', bins=20, binwidth=5)\n",
    "grid.add_legend()"
   ]
  },
  {
   "cell_type": "code",
   "execution_count": 36,
   "id": "8c96221a",
   "metadata": {
    "execution": {
     "iopub.execute_input": "2023-01-25T23:27:19.289704Z",
     "iopub.status.busy": "2023-01-25T23:27:19.289006Z",
     "iopub.status.idle": "2023-01-25T23:27:20.802466Z",
     "shell.execute_reply": "2023-01-25T23:27:20.801425Z"
    },
    "papermill": {
     "duration": 1.531848,
     "end_time": "2023-01-25T23:27:20.805446",
     "exception": false,
     "start_time": "2023-01-25T23:27:19.273598",
     "status": "completed"
    },
    "tags": []
   },
   "outputs": [
    {
     "data": {
      "image/png": "[encoded data removed]",
      "text/plain": [
       "<Figure size 699.2x648 with 6 Axes>"
      ]
     },
     "metadata": {
      "needs_background": "light"
     },
     "output_type": "display_data"
    }
   ],
   "source": [
    "# plot the relation between passenger class and survival\n",
    "grid = sns.FacetGrid(df_train, col='Survived', row='Pclass', height=3, aspect=1.6)\n",
    "grid.map(sns.histplot, 'Age', bins=20)\n",
    "grid.add_legend();"
   ]
  },
  {
   "cell_type": "code",
   "execution_count": 37,
   "id": "0fed1c3e",
   "metadata": {
    "execution": {
     "iopub.execute_input": "2023-01-25T23:27:20.838735Z",
     "iopub.status.busy": "2023-01-25T23:27:20.838427Z",
     "iopub.status.idle": "2023-01-25T23:27:22.118434Z",
     "shell.execute_reply": "2023-01-25T23:27:22.112280Z"
    },
    "papermill": {
     "duration": 1.300636,
     "end_time": "2023-01-25T23:27:22.121892",
     "exception": false,
     "start_time": "2023-01-25T23:27:20.821256",
     "status": "completed"
    },
    "tags": []
   },
   "outputs": [
    {
     "name": "stderr",
     "output_type": "stream",
     "text": [
      "/opt/conda/lib/python3.7/site-packages/seaborn/axisgrid.py:670: UserWarning: Using the pointplot function without specifying `order` is likely to produce an incorrect plot.\n",
      "  warnings.warn(warning)\n",
      "/opt/conda/lib/python3.7/site-packages/seaborn/axisgrid.py:675: UserWarning: Using the pointplot function without specifying `hue_order` is likely to produce an incorrect plot.\n",
      "  warnings.warn(warning)\n"
     ]
    },
    {
     "data": {
      "text/plain": [
       "<seaborn.axisgrid.FacetGrid at 0x7f8f3ef8a310>"
      ]
     },
     "execution_count": 37,
     "metadata": {},
     "output_type": "execute_result"
    },
    {
     "data": {
      "image/png": "[encoded data removed]",
      "text/plain": [
       "<Figure size 295.815x475.2 with 3 Axes>"
      ]
     },
     "metadata": {
      "needs_background": "light"
     },
     "output_type": "display_data"
    }
   ],
   "source": [
    "# plot relation between embarked and survival \n",
    "grid = sns.FacetGrid(df_train, row='Embarked', height=2.2, aspect=1.6)\n",
    "grid.map(sns.pointplot, 'Pclass', 'Survived', 'Sex', palette='deep')\n",
    "grid.add_legend()"
   ]
  },
  {
   "cell_type": "code",
   "execution_count": 38,
   "id": "42a99a24",
   "metadata": {
    "execution": {
     "iopub.execute_input": "2023-01-25T23:27:22.176604Z",
     "iopub.status.busy": "2023-01-25T23:27:22.176190Z",
     "iopub.status.idle": "2023-01-25T23:27:22.194407Z",
     "shell.execute_reply": "2023-01-25T23:27:22.193495Z"
    },
    "papermill": {
     "duration": 0.046991,
     "end_time": "2023-01-25T23:27:22.196371",
     "exception": false,
     "start_time": "2023-01-25T23:27:22.149380",
     "status": "completed"
    },
    "tags": []
   },
   "outputs": [
    {
     "name": "stdout",
     "output_type": "stream",
     "text": [
      "<class 'pandas.core.frame.DataFrame'>\n",
      "RangeIndex: 418 entries, 0 to 417\n",
      "Data columns (total 7 columns):\n",
      " #   Column       Non-Null Count  Dtype\n",
      "---  ------       --------------  -----\n",
      " 0   PassengerId  418 non-null    int64\n",
      " 1   Pclass       418 non-null    int64\n",
      " 2   Sex          418 non-null    int64\n",
      " 3   Age          418 non-null    int64\n",
      " 4   SibSp        418 non-null    int64\n",
      " 5   Parch        418 non-null    int64\n",
      " 6   Embarked     418 non-null    int64\n",
      "dtypes: int64(7)\n",
      "memory usage: 23.0 KB\n"
     ]
    }
   ],
   "source": [
    "df_test.info()"
   ]
  },
  {
   "cell_type": "code",
   "execution_count": 39,
   "id": "5d792c3e",
   "metadata": {
    "execution": {
     "iopub.execute_input": "2023-01-25T23:27:22.241893Z",
     "iopub.status.busy": "2023-01-25T23:27:22.241440Z",
     "iopub.status.idle": "2023-01-25T23:27:22.253335Z",
     "shell.execute_reply": "2023-01-25T23:27:22.252522Z"
    },
    "papermill": {
     "duration": 0.036968,
     "end_time": "2023-01-25T23:27:22.255775",
     "exception": false,
     "start_time": "2023-01-25T23:27:22.218807",
     "status": "completed"
    },
    "tags": []
   },
   "outputs": [
    {
     "data": {
      "text/plain": [
       "PassengerId    0\n",
       "Pclass         0\n",
       "Sex            0\n",
       "Age            0\n",
       "SibSp          0\n",
       "Parch          0\n",
       "Embarked       0\n",
       "dtype: int64"
      ]
     },
     "execution_count": 39,
     "metadata": {},
     "output_type": "execute_result"
    }
   ],
   "source": [
    "df_test.isnull().sum()"
   ]
  },
  {
   "cell_type": "code",
   "execution_count": 40,
   "id": "debe9591",
   "metadata": {
    "execution": {
     "iopub.execute_input": "2023-01-25T23:27:22.300723Z",
     "iopub.status.busy": "2023-01-25T23:27:22.300405Z",
     "iopub.status.idle": "2023-01-25T23:27:22.317607Z",
     "shell.execute_reply": "2023-01-25T23:27:22.316781Z"
    },
    "papermill": {
     "duration": 0.042382,
     "end_time": "2023-01-25T23:27:22.320062",
     "exception": false,
     "start_time": "2023-01-25T23:27:22.277680",
     "status": "completed"
    },
    "tags": []
   },
   "outputs": [
    {
     "data": {
      "text/plain": [
       "[     PassengerId  Survived  Pclass  Sex  Age  SibSp  Parch  Embarked\n",
       " 0              1         0       3    0   22      1      0         0\n",
       " 1              2         1       1    1   38      1      0         1\n",
       " 2              3         1       3    1   26      0      0         0\n",
       " 3              4         1       1    1   35      1      0         0\n",
       " 4              5         0       3    0   35      0      0         0\n",
       " ..           ...       ...     ...  ...  ...    ...    ...       ...\n",
       " 886          887         0       2    0   27      0      0         0\n",
       " 887          888         1       1    1   19      0      0         0\n",
       " 888          889         0       3    1   29      1      2         0\n",
       " 889          890         1       1    0   26      0      0         1\n",
       " 890          891         0       3    0   32      0      0         2\n",
       " \n",
       " [889 rows x 8 columns],\n",
       "      PassengerId  Pclass  Sex  Age  SibSp  Parch  Embarked\n",
       " 0            892       3    0   34      0      0         2\n",
       " 1            893       3    1   47      1      0         0\n",
       " 2            894       2    0   62      0      0         2\n",
       " 3            895       3    0   27      0      0         0\n",
       " 4            896       3    1   22      1      1         0\n",
       " ..           ...     ...  ...  ...    ...    ...       ...\n",
       " 413         1305       3    0   30      0      0         0\n",
       " 414         1306       1    1   39      0      0         1\n",
       " 415         1307       3    0   38      0      0         0\n",
       " 416         1308       3    0   30      0      0         0\n",
       " 417         1309       3    0   30      1      1         1\n",
       " \n",
       " [418 rows x 7 columns]]"
      ]
     },
     "execution_count": 40,
     "metadata": {},
     "output_type": "execute_result"
    }
   ],
   "source": [
    "combine"
   ]
  },
  {
   "cell_type": "code",
   "execution_count": null,
   "id": "e08e68af",
   "metadata": {
    "papermill": {
     "duration": 0.031352,
     "end_time": "2023-01-25T23:27:22.375416",
     "exception": false,
     "start_time": "2023-01-25T23:27:22.344064",
     "status": "completed"
    },
    "tags": []
   },
   "outputs": [],
   "source": []
  },
  {
   "cell_type": "code",
   "execution_count": null,
   "id": "872ac6a7",
   "metadata": {
    "papermill": {
     "duration": 0.015005,
     "end_time": "2023-01-25T23:27:22.413224",
     "exception": false,
     "start_time": "2023-01-25T23:27:22.398219",
     "status": "completed"
    },
    "tags": []
   },
   "outputs": [],
   "source": []
  },
  {
   "cell_type": "markdown",
   "id": "9e6546ab",
   "metadata": {
    "papermill": {
     "duration": 0.014921,
     "end_time": "2023-01-25T23:27:22.443324",
     "exception": false,
     "start_time": "2023-01-25T23:27:22.428403",
     "status": "completed"
    },
    "tags": []
   },
   "source": [
    "## Model Prediction"
   ]
  },
  {
   "cell_type": "code",
   "execution_count": 41,
   "id": "a7908a3d",
   "metadata": {
    "execution": {
     "iopub.execute_input": "2023-01-25T23:27:22.474832Z",
     "iopub.status.busy": "2023-01-25T23:27:22.474516Z",
     "iopub.status.idle": "2023-01-25T23:27:22.482143Z",
     "shell.execute_reply": "2023-01-25T23:27:22.481284Z"
    },
    "papermill": {
     "duration": 0.025755,
     "end_time": "2023-01-25T23:27:22.484194",
     "exception": false,
     "start_time": "2023-01-25T23:27:22.458439",
     "status": "completed"
    },
    "tags": []
   },
   "outputs": [],
   "source": [
    "# get x and y\n",
    "X_train, X_test, y_train, y_test = train_test_split(df_train.drop(\"Survived\", axis=1), df_train[\"Survived\"], test_size=0.2, random_state=42)"
   ]
  },
  {
   "cell_type": "code",
   "execution_count": 42,
   "id": "50f1d8cc",
   "metadata": {
    "execution": {
     "iopub.execute_input": "2023-01-25T23:27:22.516091Z",
     "iopub.status.busy": "2023-01-25T23:27:22.515196Z",
     "iopub.status.idle": "2023-01-25T23:27:22.527246Z",
     "shell.execute_reply": "2023-01-25T23:27:22.526165Z"
    },
    "papermill": {
     "duration": 0.029821,
     "end_time": "2023-01-25T23:27:22.529224",
     "exception": false,
     "start_time": "2023-01-25T23:27:22.499403",
     "status": "completed"
    },
    "tags": []
   },
   "outputs": [
    {
     "data": {
      "text/html": [
       "<div>\n",
       "<style scoped>\n",
       "    .dataframe tbody tr th:only-of-type {\n",
       "        vertical-align: middle;\n",
       "    }\n",
       "\n",
       "    .dataframe tbody tr th {\n",
       "        vertical-align: top;\n",
       "    }\n",
       "\n",
       "    .dataframe thead th {\n",
       "        text-align: right;\n",
       "    }\n",
       "</style>\n",
       "<table border=\"1\" class=\"dataframe\">\n",
       "  <thead>\n",
       "    <tr style=\"text-align: right;\">\n",
       "      <th></th>\n",
       "      <th>PassengerId</th>\n",
       "      <th>Pclass</th>\n",
       "      <th>Sex</th>\n",
       "      <th>Age</th>\n",
       "      <th>SibSp</th>\n",
       "      <th>Parch</th>\n",
       "      <th>Embarked</th>\n",
       "    </tr>\n",
       "  </thead>\n",
       "  <tbody>\n",
       "    <tr>\n",
       "      <th>708</th>\n",
       "      <td>709</td>\n",
       "      <td>1</td>\n",
       "      <td>1</td>\n",
       "      <td>22</td>\n",
       "      <td>0</td>\n",
       "      <td>0</td>\n",
       "      <td>0</td>\n",
       "    </tr>\n",
       "    <tr>\n",
       "      <th>240</th>\n",
       "      <td>241</td>\n",
       "      <td>3</td>\n",
       "      <td>1</td>\n",
       "      <td>29</td>\n",
       "      <td>1</td>\n",
       "      <td>0</td>\n",
       "      <td>1</td>\n",
       "    </tr>\n",
       "    <tr>\n",
       "      <th>382</th>\n",
       "      <td>383</td>\n",
       "      <td>3</td>\n",
       "      <td>0</td>\n",
       "      <td>32</td>\n",
       "      <td>0</td>\n",
       "      <td>0</td>\n",
       "      <td>0</td>\n",
       "    </tr>\n",
       "    <tr>\n",
       "      <th>792</th>\n",
       "      <td>793</td>\n",
       "      <td>3</td>\n",
       "      <td>1</td>\n",
       "      <td>29</td>\n",
       "      <td>8</td>\n",
       "      <td>2</td>\n",
       "      <td>0</td>\n",
       "    </tr>\n",
       "    <tr>\n",
       "      <th>683</th>\n",
       "      <td>684</td>\n",
       "      <td>3</td>\n",
       "      <td>0</td>\n",
       "      <td>14</td>\n",
       "      <td>5</td>\n",
       "      <td>2</td>\n",
       "      <td>0</td>\n",
       "    </tr>\n",
       "    <tr>\n",
       "      <th>...</th>\n",
       "      <td>...</td>\n",
       "      <td>...</td>\n",
       "      <td>...</td>\n",
       "      <td>...</td>\n",
       "      <td>...</td>\n",
       "      <td>...</td>\n",
       "      <td>...</td>\n",
       "    </tr>\n",
       "    <tr>\n",
       "      <th>107</th>\n",
       "      <td>108</td>\n",
       "      <td>3</td>\n",
       "      <td>0</td>\n",
       "      <td>29</td>\n",
       "      <td>0</td>\n",
       "      <td>0</td>\n",
       "      <td>0</td>\n",
       "    </tr>\n",
       "    <tr>\n",
       "      <th>271</th>\n",
       "      <td>272</td>\n",
       "      <td>3</td>\n",
       "      <td>0</td>\n",
       "      <td>25</td>\n",
       "      <td>0</td>\n",
       "      <td>0</td>\n",
       "      <td>0</td>\n",
       "    </tr>\n",
       "    <tr>\n",
       "      <th>862</th>\n",
       "      <td>863</td>\n",
       "      <td>1</td>\n",
       "      <td>1</td>\n",
       "      <td>48</td>\n",
       "      <td>0</td>\n",
       "      <td>0</td>\n",
       "      <td>0</td>\n",
       "    </tr>\n",
       "    <tr>\n",
       "      <th>436</th>\n",
       "      <td>437</td>\n",
       "      <td>3</td>\n",
       "      <td>1</td>\n",
       "      <td>21</td>\n",
       "      <td>2</td>\n",
       "      <td>2</td>\n",
       "      <td>0</td>\n",
       "    </tr>\n",
       "    <tr>\n",
       "      <th>103</th>\n",
       "      <td>104</td>\n",
       "      <td>3</td>\n",
       "      <td>0</td>\n",
       "      <td>33</td>\n",
       "      <td>0</td>\n",
       "      <td>0</td>\n",
       "      <td>0</td>\n",
       "    </tr>\n",
       "  </tbody>\n",
       "</table>\n",
       "<p>711 rows × 7 columns</p>\n",
       "</div>"
      ],
      "text/plain": [
       "     PassengerId  Pclass  Sex  Age  SibSp  Parch  Embarked\n",
       "708          709       1    1   22      0      0         0\n",
       "240          241       3    1   29      1      0         1\n",
       "382          383       3    0   32      0      0         0\n",
       "792          793       3    1   29      8      2         0\n",
       "683          684       3    0   14      5      2         0\n",
       "..           ...     ...  ...  ...    ...    ...       ...\n",
       "107          108       3    0   29      0      0         0\n",
       "271          272       3    0   25      0      0         0\n",
       "862          863       1    1   48      0      0         0\n",
       "436          437       3    1   21      2      2         0\n",
       "103          104       3    0   33      0      0         0\n",
       "\n",
       "[711 rows x 7 columns]"
      ]
     },
     "execution_count": 42,
     "metadata": {},
     "output_type": "execute_result"
    }
   ],
   "source": [
    "X_train"
   ]
  },
  {
   "cell_type": "code",
   "execution_count": 43,
   "id": "20ac2695",
   "metadata": {
    "execution": {
     "iopub.execute_input": "2023-01-25T23:27:22.561453Z",
     "iopub.status.busy": "2023-01-25T23:27:22.560748Z",
     "iopub.status.idle": "2023-01-25T23:27:22.567164Z",
     "shell.execute_reply": "2023-01-25T23:27:22.566242Z"
    },
    "papermill": {
     "duration": 0.024551,
     "end_time": "2023-01-25T23:27:22.569222",
     "exception": false,
     "start_time": "2023-01-25T23:27:22.544671",
     "status": "completed"
    },
    "tags": []
   },
   "outputs": [
    {
     "data": {
      "text/plain": [
       "((711, 7), (711,), (178, 7), (178,))"
      ]
     },
     "execution_count": 43,
     "metadata": {},
     "output_type": "execute_result"
    }
   ],
   "source": [
    "# shape of x_train, y_train, x_test and y_test\n",
    "X_train.shape, y_train.shape, X_test.shape, y_test.shape"
   ]
  },
  {
   "cell_type": "code",
   "execution_count": 44,
   "id": "29689d8e",
   "metadata": {
    "execution": {
     "iopub.execute_input": "2023-01-25T23:27:22.602510Z",
     "iopub.status.busy": "2023-01-25T23:27:22.601789Z",
     "iopub.status.idle": "2023-01-25T23:27:22.613346Z",
     "shell.execute_reply": "2023-01-25T23:27:22.612368Z"
    },
    "papermill": {
     "duration": 0.030282,
     "end_time": "2023-01-25T23:27:22.615378",
     "exception": false,
     "start_time": "2023-01-25T23:27:22.585096",
     "status": "completed"
    },
    "tags": []
   },
   "outputs": [
    {
     "data": {
      "text/html": [
       "<div>\n",
       "<style scoped>\n",
       "    .dataframe tbody tr th:only-of-type {\n",
       "        vertical-align: middle;\n",
       "    }\n",
       "\n",
       "    .dataframe tbody tr th {\n",
       "        vertical-align: top;\n",
       "    }\n",
       "\n",
       "    .dataframe thead th {\n",
       "        text-align: right;\n",
       "    }\n",
       "</style>\n",
       "<table border=\"1\" class=\"dataframe\">\n",
       "  <thead>\n",
       "    <tr style=\"text-align: right;\">\n",
       "      <th></th>\n",
       "      <th>PassengerId</th>\n",
       "      <th>Pclass</th>\n",
       "      <th>Sex</th>\n",
       "      <th>Age</th>\n",
       "      <th>SibSp</th>\n",
       "      <th>Parch</th>\n",
       "      <th>Embarked</th>\n",
       "    </tr>\n",
       "  </thead>\n",
       "  <tbody>\n",
       "    <tr>\n",
       "      <th>708</th>\n",
       "      <td>709</td>\n",
       "      <td>1</td>\n",
       "      <td>1</td>\n",
       "      <td>22</td>\n",
       "      <td>0</td>\n",
       "      <td>0</td>\n",
       "      <td>0</td>\n",
       "    </tr>\n",
       "    <tr>\n",
       "      <th>240</th>\n",
       "      <td>241</td>\n",
       "      <td>3</td>\n",
       "      <td>1</td>\n",
       "      <td>29</td>\n",
       "      <td>1</td>\n",
       "      <td>0</td>\n",
       "      <td>1</td>\n",
       "    </tr>\n",
       "    <tr>\n",
       "      <th>382</th>\n",
       "      <td>383</td>\n",
       "      <td>3</td>\n",
       "      <td>0</td>\n",
       "      <td>32</td>\n",
       "      <td>0</td>\n",
       "      <td>0</td>\n",
       "      <td>0</td>\n",
       "    </tr>\n",
       "    <tr>\n",
       "      <th>792</th>\n",
       "      <td>793</td>\n",
       "      <td>3</td>\n",
       "      <td>1</td>\n",
       "      <td>29</td>\n",
       "      <td>8</td>\n",
       "      <td>2</td>\n",
       "      <td>0</td>\n",
       "    </tr>\n",
       "    <tr>\n",
       "      <th>683</th>\n",
       "      <td>684</td>\n",
       "      <td>3</td>\n",
       "      <td>0</td>\n",
       "      <td>14</td>\n",
       "      <td>5</td>\n",
       "      <td>2</td>\n",
       "      <td>0</td>\n",
       "    </tr>\n",
       "    <tr>\n",
       "      <th>...</th>\n",
       "      <td>...</td>\n",
       "      <td>...</td>\n",
       "      <td>...</td>\n",
       "      <td>...</td>\n",
       "      <td>...</td>\n",
       "      <td>...</td>\n",
       "      <td>...</td>\n",
       "    </tr>\n",
       "    <tr>\n",
       "      <th>107</th>\n",
       "      <td>108</td>\n",
       "      <td>3</td>\n",
       "      <td>0</td>\n",
       "      <td>29</td>\n",
       "      <td>0</td>\n",
       "      <td>0</td>\n",
       "      <td>0</td>\n",
       "    </tr>\n",
       "    <tr>\n",
       "      <th>271</th>\n",
       "      <td>272</td>\n",
       "      <td>3</td>\n",
       "      <td>0</td>\n",
       "      <td>25</td>\n",
       "      <td>0</td>\n",
       "      <td>0</td>\n",
       "      <td>0</td>\n",
       "    </tr>\n",
       "    <tr>\n",
       "      <th>862</th>\n",
       "      <td>863</td>\n",
       "      <td>1</td>\n",
       "      <td>1</td>\n",
       "      <td>48</td>\n",
       "      <td>0</td>\n",
       "      <td>0</td>\n",
       "      <td>0</td>\n",
       "    </tr>\n",
       "    <tr>\n",
       "      <th>436</th>\n",
       "      <td>437</td>\n",
       "      <td>3</td>\n",
       "      <td>1</td>\n",
       "      <td>21</td>\n",
       "      <td>2</td>\n",
       "      <td>2</td>\n",
       "      <td>0</td>\n",
       "    </tr>\n",
       "    <tr>\n",
       "      <th>103</th>\n",
       "      <td>104</td>\n",
       "      <td>3</td>\n",
       "      <td>0</td>\n",
       "      <td>33</td>\n",
       "      <td>0</td>\n",
       "      <td>0</td>\n",
       "      <td>0</td>\n",
       "    </tr>\n",
       "  </tbody>\n",
       "</table>\n",
       "<p>711 rows × 7 columns</p>\n",
       "</div>"
      ],
      "text/plain": [
       "     PassengerId  Pclass  Sex  Age  SibSp  Parch  Embarked\n",
       "708          709       1    1   22      0      0         0\n",
       "240          241       3    1   29      1      0         1\n",
       "382          383       3    0   32      0      0         0\n",
       "792          793       3    1   29      8      2         0\n",
       "683          684       3    0   14      5      2         0\n",
       "..           ...     ...  ...  ...    ...    ...       ...\n",
       "107          108       3    0   29      0      0         0\n",
       "271          272       3    0   25      0      0         0\n",
       "862          863       1    1   48      0      0         0\n",
       "436          437       3    1   21      2      2         0\n",
       "103          104       3    0   33      0      0         0\n",
       "\n",
       "[711 rows x 7 columns]"
      ]
     },
     "execution_count": 44,
     "metadata": {},
     "output_type": "execute_result"
    }
   ],
   "source": [
    "X_train"
   ]
  },
  {
   "cell_type": "markdown",
   "id": "3c44920d",
   "metadata": {
    "papermill": {
     "duration": 0.016186,
     "end_time": "2023-01-25T23:27:22.647171",
     "exception": false,
     "start_time": "2023-01-25T23:27:22.630985",
     "status": "completed"
    },
    "tags": []
   },
   "source": [
    "### Logisitic Regression"
   ]
  },
  {
   "cell_type": "code",
   "execution_count": 45,
   "id": "ca3f3599",
   "metadata": {
    "execution": {
     "iopub.execute_input": "2023-01-25T23:27:22.682543Z",
     "iopub.status.busy": "2023-01-25T23:27:22.681750Z",
     "iopub.status.idle": "2023-01-25T23:27:22.729334Z",
     "shell.execute_reply": "2023-01-25T23:27:22.728016Z"
    },
    "papermill": {
     "duration": 0.068323,
     "end_time": "2023-01-25T23:27:22.732629",
     "exception": false,
     "start_time": "2023-01-25T23:27:22.664306",
     "status": "completed"
    },
    "tags": []
   },
   "outputs": [
    {
     "name": "stderr",
     "output_type": "stream",
     "text": [
      "/opt/conda/lib/python3.7/site-packages/sklearn/linear_model/_logistic.py:818: ConvergenceWarning: lbfgs failed to converge (status=1):\n",
      "STOP: TOTAL NO. of ITERATIONS REACHED LIMIT.\n",
      "\n",
      "Increase the number of iterations (max_iter) or scale the data as shown in:\n",
      "    https://scikit-learn.org/stable/modules/preprocessing.html\n",
      "Please also refer to the documentation for alternative solver options:\n",
      "    https://scikit-learn.org/stable/modules/linear_model.html#logistic-regression\n",
      "  extra_warning_msg=_LOGISTIC_SOLVER_CONVERGENCE_MSG,\n"
     ]
    },
    {
     "data": {
      "text/plain": [
       "LogisticRegression()"
      ]
     },
     "execution_count": 45,
     "metadata": {},
     "output_type": "execute_result"
    }
   ],
   "source": [
    "# initialize the model\n",
    "model = LogisticRegression()\n",
    "model.fit(X_train, y_train)"
   ]
  },
  {
   "cell_type": "code",
   "execution_count": 46,
   "id": "14fc0a5c",
   "metadata": {
    "execution": {
     "iopub.execute_input": "2023-01-25T23:27:22.766973Z",
     "iopub.status.busy": "2023-01-25T23:27:22.766124Z",
     "iopub.status.idle": "2023-01-25T23:27:22.772123Z",
     "shell.execute_reply": "2023-01-25T23:27:22.771199Z"
    },
    "papermill": {
     "duration": 0.02573,
     "end_time": "2023-01-25T23:27:22.774418",
     "exception": false,
     "start_time": "2023-01-25T23:27:22.748688",
     "status": "completed"
    },
    "tags": []
   },
   "outputs": [],
   "source": [
    "y_pred = model.predict(X_test)"
   ]
  },
  {
   "cell_type": "code",
   "execution_count": 47,
   "id": "f50281f1",
   "metadata": {
    "execution": {
     "iopub.execute_input": "2023-01-25T23:27:22.808860Z",
     "iopub.status.busy": "2023-01-25T23:27:22.808096Z",
     "iopub.status.idle": "2023-01-25T23:27:22.816161Z",
     "shell.execute_reply": "2023-01-25T23:27:22.815016Z"
    },
    "papermill": {
     "duration": 0.027525,
     "end_time": "2023-01-25T23:27:22.818226",
     "exception": false,
     "start_time": "2023-01-25T23:27:22.790701",
     "status": "completed"
    },
    "tags": []
   },
   "outputs": [
    {
     "data": {
      "text/plain": [
       "0.8016877637130801"
      ]
     },
     "execution_count": 47,
     "metadata": {},
     "output_type": "execute_result"
    }
   ],
   "source": [
    "model.score(X_train, y_train)"
   ]
  },
  {
   "cell_type": "code",
   "execution_count": 48,
   "id": "082c6b67",
   "metadata": {
    "execution": {
     "iopub.execute_input": "2023-01-25T23:27:22.852177Z",
     "iopub.status.busy": "2023-01-25T23:27:22.851301Z",
     "iopub.status.idle": "2023-01-25T23:27:22.857918Z",
     "shell.execute_reply": "2023-01-25T23:27:22.856952Z"
    },
    "papermill": {
     "duration": 0.025366,
     "end_time": "2023-01-25T23:27:22.859894",
     "exception": false,
     "start_time": "2023-01-25T23:27:22.834528",
     "status": "completed"
    },
    "tags": []
   },
   "outputs": [
    {
     "data": {
      "text/plain": [
       "0.8033707865168539"
      ]
     },
     "execution_count": 48,
     "metadata": {},
     "output_type": "execute_result"
    }
   ],
   "source": [
    "accuracy_score(y_test, y_pred)"
   ]
  },
  {
   "cell_type": "code",
   "execution_count": 49,
   "id": "555d94b1",
   "metadata": {
    "execution": {
     "iopub.execute_input": "2023-01-25T23:27:22.893491Z",
     "iopub.status.busy": "2023-01-25T23:27:22.892849Z",
     "iopub.status.idle": "2023-01-25T23:27:22.903042Z",
     "shell.execute_reply": "2023-01-25T23:27:22.901978Z"
    },
    "papermill": {
     "duration": 0.028767,
     "end_time": "2023-01-25T23:27:22.905083",
     "exception": false,
     "start_time": "2023-01-25T23:27:22.876316",
     "status": "completed"
    },
    "tags": []
   },
   "outputs": [
    {
     "data": {
      "text/html": [
       "<div>\n",
       "<style scoped>\n",
       "    .dataframe tbody tr th:only-of-type {\n",
       "        vertical-align: middle;\n",
       "    }\n",
       "\n",
       "    .dataframe tbody tr th {\n",
       "        vertical-align: top;\n",
       "    }\n",
       "\n",
       "    .dataframe thead th {\n",
       "        text-align: right;\n",
       "    }\n",
       "</style>\n",
       "<table border=\"1\" class=\"dataframe\">\n",
       "  <thead>\n",
       "    <tr style=\"text-align: right;\">\n",
       "      <th></th>\n",
       "      <th>PassengerId</th>\n",
       "      <th>Pclass</th>\n",
       "      <th>Sex</th>\n",
       "      <th>Age</th>\n",
       "      <th>SibSp</th>\n",
       "      <th>Parch</th>\n",
       "      <th>Embarked</th>\n",
       "    </tr>\n",
       "  </thead>\n",
       "  <tbody>\n",
       "    <tr>\n",
       "      <th>0</th>\n",
       "      <td>892</td>\n",
       "      <td>3</td>\n",
       "      <td>0</td>\n",
       "      <td>34</td>\n",
       "      <td>0</td>\n",
       "      <td>0</td>\n",
       "      <td>2</td>\n",
       "    </tr>\n",
       "    <tr>\n",
       "      <th>1</th>\n",
       "      <td>893</td>\n",
       "      <td>3</td>\n",
       "      <td>1</td>\n",
       "      <td>47</td>\n",
       "      <td>1</td>\n",
       "      <td>0</td>\n",
       "      <td>0</td>\n",
       "    </tr>\n",
       "    <tr>\n",
       "      <th>2</th>\n",
       "      <td>894</td>\n",
       "      <td>2</td>\n",
       "      <td>0</td>\n",
       "      <td>62</td>\n",
       "      <td>0</td>\n",
       "      <td>0</td>\n",
       "      <td>2</td>\n",
       "    </tr>\n",
       "    <tr>\n",
       "      <th>3</th>\n",
       "      <td>895</td>\n",
       "      <td>3</td>\n",
       "      <td>0</td>\n",
       "      <td>27</td>\n",
       "      <td>0</td>\n",
       "      <td>0</td>\n",
       "      <td>0</td>\n",
       "    </tr>\n",
       "    <tr>\n",
       "      <th>4</th>\n",
       "      <td>896</td>\n",
       "      <td>3</td>\n",
       "      <td>1</td>\n",
       "      <td>22</td>\n",
       "      <td>1</td>\n",
       "      <td>1</td>\n",
       "      <td>0</td>\n",
       "    </tr>\n",
       "  </tbody>\n",
       "</table>\n",
       "</div>"
      ],
      "text/plain": [
       "   PassengerId  Pclass  Sex  Age  SibSp  Parch  Embarked\n",
       "0          892       3    0   34      0      0         2\n",
       "1          893       3    1   47      1      0         0\n",
       "2          894       2    0   62      0      0         2\n",
       "3          895       3    0   27      0      0         0\n",
       "4          896       3    1   22      1      1         0"
      ]
     },
     "execution_count": 49,
     "metadata": {},
     "output_type": "execute_result"
    }
   ],
   "source": [
    "df_test.head()"
   ]
  },
  {
   "cell_type": "code",
   "execution_count": 50,
   "id": "fb21bbfb",
   "metadata": {
    "execution": {
     "iopub.execute_input": "2023-01-25T23:27:22.939137Z",
     "iopub.status.busy": "2023-01-25T23:27:22.938374Z",
     "iopub.status.idle": "2023-01-25T23:27:22.944215Z",
     "shell.execute_reply": "2023-01-25T23:27:22.943422Z"
    },
    "papermill": {
     "duration": 0.025113,
     "end_time": "2023-01-25T23:27:22.946353",
     "exception": false,
     "start_time": "2023-01-25T23:27:22.921240",
     "status": "completed"
    },
    "tags": []
   },
   "outputs": [],
   "source": [
    "# predict on the test file\n",
    "Y_pred = model.predict(df_test)"
   ]
  },
  {
   "cell_type": "code",
   "execution_count": null,
   "id": "6c9dfcab",
   "metadata": {
    "execution": {
     "iopub.execute_input": "2023-01-25T16:37:15.752026Z",
     "iopub.status.busy": "2023-01-25T16:37:15.751653Z",
     "iopub.status.idle": "2023-01-25T16:37:15.759507Z",
     "shell.execute_reply": "2023-01-25T16:37:15.758580Z",
     "shell.execute_reply.started": "2023-01-25T16:37:15.751995Z"
    },
    "papermill": {
     "duration": 0.016035,
     "end_time": "2023-01-25T23:27:22.978452",
     "exception": false,
     "start_time": "2023-01-25T23:27:22.962417",
     "status": "completed"
    },
    "tags": []
   },
   "outputs": [],
   "source": []
  },
  {
   "cell_type": "code",
   "execution_count": null,
   "id": "a41f872f",
   "metadata": {
    "papermill": {
     "duration": 0.015988,
     "end_time": "2023-01-25T23:27:23.010475",
     "exception": false,
     "start_time": "2023-01-25T23:27:22.994487",
     "status": "completed"
    },
    "tags": []
   },
   "outputs": [],
   "source": []
  }
 ],
 "metadata": {
  "kernelspec": {
   "display_name": "Python 3",
   "language": "python",
   "name": "python3"
  },
  "language_info": {
   "codemirror_mode": {
    "name": "ipython",
    "version": 3
   },
   "file_extension": ".py",
   "mimetype": "text/x-python",
   "name": "python",
   "nbconvert_exporter": "python",
   "pygments_lexer": "ipython3",
   "version": "3.7.12"
  },
  "papermill": {
   "default_parameters": {},
   "duration": 30.80795,
   "end_time": "2023-01-25T23:27:23.645912",
   "environment_variables": {},
   "exception": null,
   "input_path": "__notebook__.ipynb",
   "output_path": "__notebook__.ipynb",
   "parameters": {},
   "start_time": "2023-01-25T23:26:52.837962",
   "version": "2.3.4"
  }
 },
 "nbformat": 4,
 "nbformat_minor": 5
}
